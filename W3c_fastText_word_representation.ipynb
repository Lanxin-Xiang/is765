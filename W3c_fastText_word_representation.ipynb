{
  "nbformat": 4,
  "nbformat_minor": 0,
  "metadata": {
    "colab": {
      "provenance": [],
      "machine_shape": "hm",
      "gpuType": "T4",
      "authorship_tag": "ABX9TyOKj51S5VCdaDxpLhj3Hoaa",
      "include_colab_link": true
    },
    "kernelspec": {
      "name": "python3",
      "display_name": "Python 3"
    },
    "language_info": {
      "name": "python"
    },
    "accelerator": "GPU"
  },
  "cells": [
    {
      "cell_type": "markdown",
      "metadata": {
        "id": "view-in-github",
        "colab_type": "text"
      },
      "source": [
        "<a href=\"https://colab.research.google.com/github/Lanxin-Xiang/is765/blob/main/W3c_fastText_word_representation.ipynb\" target=\"_parent\"><img src=\"https://colab.research.google.com/assets/colab-badge.svg\" alt=\"Open In Colab\"/></a>"
      ]
    },
    {
      "cell_type": "markdown",
      "source": [
        "# **W3. fastText Demo code**\n",
        "\n",
        "In this notebook, we will play around with a pre-trained fastTest model, and train our own model\n",
        "\n",
        "Ref: https://fasttext.cc/docs/en/crawl-vectors.html#adapt-the-dimension"
      ],
      "metadata": {
        "id": "1PrlLXmDXkFL"
      }
    },
    {
      "cell_type": "markdown",
      "source": [
        "## **Pre-trained wold representation model**\n",
        "\n",
        "This fastText pre-trained model was trained on Common Crawl and Wikipedia using **CBOW** with position-weights, in dimension 300, with character n-grams of length 5, a window of size 5 and 10 negatives. [Read more](https://fasttext.cc/docs/en/crawl-vectors.html#adapt-the-dimension)."
      ],
      "metadata": {
        "id": "KzONf8odZ1Qw"
      }
    },
    {
      "cell_type": "code",
      "execution_count": 15,
      "metadata": {
        "colab": {
          "base_uri": "https://localhost:8080/"
        },
        "id": "VIeyInhPmhRO",
        "outputId": "e92e9c87-626e-4552-8e64-c7e24a7622ea"
      },
      "outputs": [
        {
          "output_type": "stream",
          "name": "stdout",
          "text": [
            "Drive already mounted at /content/drive; to attempt to forcibly remount, call drive.mount(\"/content/drive\", force_remount=True).\n",
            "[Errno 2] No such file or directory: 'drive/My Drive/is765'\n",
            "/content/drive/MyDrive/is765\n"
          ]
        }
      ],
      "source": [
        "from google.colab import drive\n",
        "\n",
        "drive.mount('/content/drive')\n",
        "\n",
        "%cd drive/My\\ Drive/is765"
      ]
    },
    {
      "cell_type": "code",
      "source": [
        "!git clone https://github.com/facebookresearch/fastText.git"
      ],
      "metadata": {
        "id": "faZGr3ui11IJ",
        "colab": {
          "base_uri": "https://localhost:8080/"
        },
        "outputId": "d58d9473-0e46-4663-c437-44a1699c94f5"
      },
      "execution_count": 16,
      "outputs": [
        {
          "output_type": "stream",
          "name": "stdout",
          "text": [
            "fatal: destination path 'fastText' already exists and is not an empty directory.\n"
          ]
        }
      ]
    },
    {
      "cell_type": "code",
      "source": [
        "%cd fastText\n",
        "!sudo pip install .\n",
        "%cd ..\n",
        "# or :\n",
        "# !sudo python setup.py install"
      ],
      "metadata": {
        "colab": {
          "base_uri": "https://localhost:8080/"
        },
        "id": "D_LmeC1r7gjN",
        "outputId": "b84a516f-c6ef-403b-a02a-bd87a1ab0299"
      },
      "execution_count": 17,
      "outputs": [
        {
          "output_type": "stream",
          "name": "stdout",
          "text": [
            "/content/drive/My Drive/is765/fastText\n",
            "Processing /content/drive/My Drive/is765/fastText\n",
            "  Preparing metadata (setup.py) ... \u001b[?25l\u001b[?25hdone\n",
            "Requirement already satisfied: pybind11>=2.2 in /usr/local/lib/python3.10/dist-packages (from fasttext==0.9.2) (2.11.1)\n",
            "Requirement already satisfied: setuptools>=0.7.0 in /usr/local/lib/python3.10/dist-packages (from fasttext==0.9.2) (67.7.2)\n",
            "Requirement already satisfied: numpy in /usr/local/lib/python3.10/dist-packages (from fasttext==0.9.2) (1.23.5)\n",
            "Building wheels for collected packages: fasttext\n",
            "  Building wheel for fasttext (setup.py) ... \u001b[?25l\u001b[?25hdone\n",
            "  Created wheel for fasttext: filename=fasttext-0.9.2-cp310-cp310-linux_x86_64.whl size=4291887 sha256=878f2bc5b5b334781cc3ce6d0cddae14656f9082ace08e3995ed95347dbb3eb7\n",
            "  Stored in directory: /tmp/pip-ephem-wheel-cache-cg47hgng/wheels/0c/be/ee/e24b5d911a7e2b16e5d42b0602bb241b23a42ddd58e26d14f1\n",
            "Successfully built fasttext\n",
            "Installing collected packages: fasttext\n",
            "  Attempting uninstall: fasttext\n",
            "    Found existing installation: fasttext 0.9.2\n",
            "    Uninstalling fasttext-0.9.2:\n",
            "      Successfully uninstalled fasttext-0.9.2\n",
            "Successfully installed fasttext-0.9.2\n",
            "/content/drive/My Drive/is765\n"
          ]
        }
      ]
    },
    {
      "cell_type": "code",
      "source": [
        "import fasttext\n",
        "import fasttext.util"
      ],
      "metadata": {
        "id": "zLP8MYSQL6Gb"
      },
      "execution_count": 18,
      "outputs": []
    },
    {
      "cell_type": "markdown",
      "source": [
        "### Download the english model\n",
        "\n",
        "If downloading with the following code is extremely slow and you do have enough space (4.2GB) on your local laptop. Try to download to local and upload to /content/drive/My Drive/is765.\n",
        "\n",
        "Click [here](https://dl.fbaipublicfiles.com/fasttext/vectors-crawl/cc.en.300.bin.gz) to download.\n",
        "\n"
      ],
      "metadata": {
        "id": "b7hIkJENcJks"
      }
    },
    {
      "cell_type": "code",
      "source": [
        "fasttext.util.download_model('en', if_exists='ignore')"
      ],
      "metadata": {
        "colab": {
          "base_uri": "https://localhost:8080/",
          "height": 36
        },
        "id": "jXEwerXKSj-Q",
        "outputId": "38a96091-26dc-45d2-ee1e-471e4a6b32a5"
      },
      "execution_count": 19,
      "outputs": [
        {
          "output_type": "execute_result",
          "data": {
            "text/plain": [
              "'cc.en.300.bin'"
            ],
            "application/vnd.google.colaboratory.intrinsic+json": {
              "type": "string"
            }
          },
          "metadata": {},
          "execution_count": 19
        }
      ]
    },
    {
      "cell_type": "markdown",
      "source": [
        "### Load model and check model dimension"
      ],
      "metadata": {
        "id": "uxnhjSa0dVqS"
      }
    },
    {
      "cell_type": "code",
      "source": [
        "ft = fasttext.load_model('cc.en.300.bin')\n",
        "ft.get_dimension()"
      ],
      "metadata": {
        "colab": {
          "base_uri": "https://localhost:8080/"
        },
        "id": "mHASVlyAS0NQ",
        "outputId": "9b77b33a-e880-433c-c396-2f0c1fdb4f8e"
      },
      "execution_count": 20,
      "outputs": [
        {
          "output_type": "execute_result",
          "data": {
            "text/plain": [
              "300"
            ]
          },
          "metadata": {},
          "execution_count": 20
        }
      ]
    },
    {
      "cell_type": "markdown",
      "source": [
        "### View word vector and find the nearest neighbors\n",
        "\n",
        "This model provides word vectors of dimension 300. If you need a smaller size, you can use dimension reducer `fasttext.util.reduce_model(ft, [dimension_you_need])` and save if for later use `ft.save_model('[model_name].bin')`."
      ],
      "metadata": {
        "id": "9_1ZKw4bdhJ5"
      }
    },
    {
      "cell_type": "code",
      "source": [
        "# view word vector of 'business'\n",
        "ft.get_word_vector('business')"
      ],
      "metadata": {
        "id": "tpzEb70hUSTn",
        "colab": {
          "base_uri": "https://localhost:8080/"
        },
        "outputId": "05705fcb-3c63-454a-dead-33b912d22870"
      },
      "execution_count": 21,
      "outputs": [
        {
          "output_type": "execute_result",
          "data": {
            "text/plain": [
              "array([-0.01748701,  0.0205003 ,  0.00045082,  0.05443384, -0.03992728,\n",
              "        0.06292507,  0.06871703,  0.0110075 ,  0.01524404,  0.01243424,\n",
              "        0.05515028,  0.04769463, -0.00307405,  0.01624583, -0.01627133,\n",
              "        0.00505937,  0.01617325,  0.00869957, -0.02411501,  0.01153365,\n",
              "       -0.04201073, -0.05712525, -0.0291956 ,  0.04447872, -0.02245653,\n",
              "        0.02838457,  0.0024024 ,  0.02998569, -0.00458549,  0.04846683,\n",
              "        0.00940121, -0.01559024,  0.03521474, -0.03529881, -0.02251797,\n",
              "        0.0214111 , -0.0051529 ,  0.01424455,  0.01805655, -0.01387825,\n",
              "       -0.03698391, -0.02891411, -0.01573465,  0.02866242, -0.07018983,\n",
              "       -0.02869168,  0.01659216, -0.00428046,  0.0305961 , -0.02691242,\n",
              "       -0.01994575, -0.00468095,  0.04948655,  0.00340673, -0.04682877,\n",
              "        0.00863829,  0.00702803, -0.00367357, -0.05073714, -0.01299426,\n",
              "       -0.01623745, -0.06201141, -0.02648371,  0.01083561, -0.00339216,\n",
              "       -0.03653119,  0.03942255,  0.03291544,  0.03652163, -0.01589227,\n",
              "       -0.03335036,  0.00232941, -0.02773185,  0.00816971, -0.03129641,\n",
              "        0.03773832, -0.0112071 ,  0.05026122, -0.01948986,  0.05035547,\n",
              "       -0.02353511, -0.02143893, -0.00110265, -0.04050497,  0.0061782 ,\n",
              "        0.00813166, -0.01066638,  0.00523829,  0.02438545,  0.01435972,\n",
              "        0.0391783 ,  0.0012384 , -0.02353888,  0.03217535, -0.02749241,\n",
              "        0.02866719, -0.00062982,  0.04463924, -0.02382891, -0.03901189,\n",
              "       -0.0032627 ,  0.01976821,  0.02877786, -0.03692883,  0.01789603,\n",
              "       -0.01497064,  0.0371383 , -0.02012108,  0.02156953, -0.03474928,\n",
              "        0.05845438, -0.01281068, -0.05097136,  0.02358706, -0.00090618,\n",
              "       -0.01133221, -0.01486183,  0.01660733, -0.00842316, -0.05317879,\n",
              "        0.00528066,  0.03319599,  0.00571301, -0.01526445,  0.01806077,\n",
              "       -0.03660143,  0.01213961,  0.02851401,  0.00364297, -0.00212519,\n",
              "       -0.08406623, -0.00390366,  0.03522838,  0.01268607,  0.03702148,\n",
              "        0.02447989,  0.05724672,  0.03920144, -0.04719473,  0.06275533,\n",
              "       -0.03631632, -0.02321377,  0.00398354, -0.02432824, -0.00769233,\n",
              "        0.074434  , -0.10288021,  0.02234858,  0.01531711, -0.02380686,\n",
              "        0.01435546, -0.01089813,  0.03069394,  0.00256602,  0.0108429 ,\n",
              "       -0.04481772,  0.05629888, -0.00113172,  0.00462132, -0.0037058 ,\n",
              "        0.03221848, -0.01545171, -0.00201362, -0.06684076,  0.00487123,\n",
              "        0.0138358 ,  0.0079474 ,  0.01939475,  0.04741219, -0.00999094,\n",
              "       -0.02545523, -0.01716107, -0.00896538, -0.0430798 , -0.06763306,\n",
              "       -0.01377617,  0.04079558, -0.02940342, -0.01483982, -0.03142895,\n",
              "        0.03726541, -0.01489461, -0.03060942, -0.00219999, -0.01658372,\n",
              "       -0.0172475 , -0.01554029,  0.04606152, -0.03629183, -0.03700989,\n",
              "        0.0075647 , -0.00793749,  0.00133109,  0.06883138,  0.00999254,\n",
              "        0.00411122, -0.01588146, -0.01081925, -0.01024007,  0.02270406,\n",
              "        0.04782351, -0.0173671 ,  0.02221761,  0.02199243, -0.02229608,\n",
              "       -0.02300193,  0.01084709,  0.01071174,  0.00953102,  0.06065959,\n",
              "        0.03419507, -0.03295402,  0.0122101 ,  0.04453086, -0.04442943,\n",
              "        0.02874265,  0.02299705, -0.01873261, -0.02022429,  0.01105109,\n",
              "        0.02242246, -0.0157962 , -0.07109367, -0.04700919, -0.00256298,\n",
              "       -0.02745886,  0.03445427, -0.06886626,  0.04563987,  0.00666608,\n",
              "        0.01051605, -0.01676833, -0.01919726, -0.04532363,  0.02028828,\n",
              "       -0.00460759,  0.02365703,  0.0415375 ,  0.01983962,  0.02312081,\n",
              "        0.01000174,  0.01911191, -0.03931319, -0.04407177,  0.04240217,\n",
              "       -0.03978556,  0.01302661,  0.00687082,  0.00808651, -0.04962502,\n",
              "       -0.01187578, -0.0091906 ,  0.01919293, -0.04626563,  0.00922574,\n",
              "       -0.01177256, -0.01548989, -0.00515583,  0.04206279, -0.00982216,\n",
              "       -0.06168086, -0.01161027, -0.00246523,  0.02617999, -0.03644485,\n",
              "       -0.05291332,  0.04071016, -0.03170536, -0.04844979,  0.00454907,\n",
              "       -0.05672932,  0.05769531,  0.0091994 , -0.0034336 , -0.07873666,\n",
              "       -0.02610282, -0.03769171,  0.02748133, -0.01625923,  0.00235452,\n",
              "        0.02440606, -0.00647845, -0.05618047,  0.0091048 , -0.01124384,\n",
              "       -0.02874437, -0.02258517, -0.00829916,  0.02412811,  0.04912177,\n",
              "       -0.02656736,  0.00813339, -0.01357146,  0.03149187,  0.00088419,\n",
              "       -0.01206858, -0.016879  ,  0.04741872, -0.02185695,  0.01063191],\n",
              "      dtype=float32)"
            ]
          },
          "metadata": {},
          "execution_count": 21
        }
      ]
    },
    {
      "cell_type": "code",
      "source": [
        "# get dimension of word vector\n",
        "ft.get_word_vector('business').shape"
      ],
      "metadata": {
        "colab": {
          "base_uri": "https://localhost:8080/"
        },
        "id": "XmZKkmpKTjUc",
        "outputId": "32f244dc-8805-4d35-b4be-47ddd656d5d0"
      },
      "execution_count": 22,
      "outputs": [
        {
          "output_type": "execute_result",
          "data": {
            "text/plain": [
              "(300,)"
            ]
          },
          "metadata": {},
          "execution_count": 22
        }
      ]
    },
    {
      "cell_type": "code",
      "source": [
        "ft.get_nearest_neighbors('business') # return list of top-10 nearest words in decending order by distance, in the form of (distance, word)."
      ],
      "metadata": {
        "colab": {
          "base_uri": "https://localhost:8080/"
        },
        "id": "7AtOMtYHT7BK",
        "outputId": "979522b3-2e13-4936-dd17-dbf6a5ee1109"
      },
      "execution_count": 23,
      "outputs": [
        {
          "output_type": "execute_result",
          "data": {
            "text/plain": [
              "[(0.7553378343582153, 'busines'),\n",
              " (0.7056190967559814, 'buiness'),\n",
              " (0.7006047964096069, 'businesss'),\n",
              " (0.6821038126945496, 'busine'),\n",
              " (0.6689029932022095, 'businee'),\n",
              " (0.6610117554664612, 'businss'),\n",
              " (0.6595211625099182, 'businees'),\n",
              " (0.6502494215965271, 'busienss'),\n",
              " (0.6476604342460632, 'businesses'),\n",
              " (0.6353780031204224, 'buisness')]"
            ]
          },
          "metadata": {},
          "execution_count": 23
        }
      ]
    },
    {
      "cell_type": "markdown",
      "source": [
        "## **Train your own word representations model**\n",
        "\n",
        "In this section, the code shows how to build word vectors with the fastText tool. [Read more](https://fasttext.cc/docs/en/unsupervised-tutorial.html#:~:text=fastText%20provides%20two%20models%20for,word%20according%20to%20its%20context.)."
      ],
      "metadata": {
        "id": "ewmb1HgHe39Y"
      }
    },
    {
      "cell_type": "markdown",
      "source": [
        "### Get the data"
      ],
      "metadata": {
        "id": "4PHE3mh4fvme"
      }
    },
    {
      "cell_type": "code",
      "source": [
        "%cd data\n",
        "!mkdir tiny_en_Wiki\n",
        "!wget -nc http://mattmahoney.net/dc/enwik9.zip -P tiny_en_Wiki\n",
        "!unzip -n tiny_en_Wiki/enwik9.zip -d tiny_en_Wiki\n",
        "%cd .."
      ],
      "metadata": {
        "id": "Y_9femraV0-l",
        "colab": {
          "base_uri": "https://localhost:8080/"
        },
        "outputId": "7d6e9b48-77cd-4c2e-92e0-805f82eaa599"
      },
      "execution_count": 24,
      "outputs": [
        {
          "output_type": "stream",
          "name": "stdout",
          "text": [
            "/content/drive/MyDrive/is765/data\n",
            "mkdir: cannot create directory ‘tiny_en_Wiki’: File exists\n",
            "File ‘tiny_en_Wiki/enwik9.zip’ already there; not retrieving.\n",
            "\n",
            "Archive:  tiny_en_Wiki/enwik9.zip\n",
            "/content/drive/MyDrive/is765\n"
          ]
        }
      ]
    },
    {
      "cell_type": "code",
      "source": [
        "!pwd # make sure you are under /content/drive/MyDrive/is765"
      ],
      "metadata": {
        "colab": {
          "base_uri": "https://localhost:8080/"
        },
        "id": "Ve3Uu2R9iTfK",
        "outputId": "6d8b53a3-f89e-4bac-8302-e37718dbb23a"
      },
      "execution_count": 25,
      "outputs": [
        {
          "output_type": "stream",
          "name": "stdout",
          "text": [
            "/content/drive/MyDrive/is765\n"
          ]
        }
      ]
    },
    {
      "cell_type": "markdown",
      "source": [
        "A raw Wikipedia dump contains a lot of HTML / XML data. We pre-process it with the wikifil.pl script bundled with fastText."
      ],
      "metadata": {
        "id": "qJUwdmXYi3wW"
      }
    },
    {
      "cell_type": "code",
      "source": [
        "!perl fastText/wikifil.pl data/tiny_en_Wiki/enwik9 > data/tiny_en_Wiki/fil9"
      ],
      "metadata": {
        "id": "qYrTFsiYgKm8"
      },
      "execution_count": 26,
      "outputs": []
    },
    {
      "cell_type": "markdown",
      "source": [
        "We can check the file by running the following command:"
      ],
      "metadata": {
        "id": "dSaqmK-ojBhw"
      }
    },
    {
      "cell_type": "code",
      "source": [
        "!head -c 80 data/tiny_en_Wiki/fil9"
      ],
      "metadata": {
        "colab": {
          "base_uri": "https://localhost:8080/"
        },
        "id": "1Afka_yYg802",
        "outputId": "6f2154a9-d741-4314-da5a-7e489eb4d5dd"
      },
      "execution_count": 27,
      "outputs": [
        {
          "output_type": "stream",
          "name": "stdout",
          "text": [
            " anarchism originated as a term of abuse first used against early working class "
          ]
        }
      ]
    },
    {
      "cell_type": "markdown",
      "source": [
        "### Train word vectors"
      ],
      "metadata": {
        "id": "TdXARvrWjJeI"
      }
    },
    {
      "cell_type": "markdown",
      "source": [
        "You are allowed to customize the following parameters by yourself, but in this demo code we use the default ones.\n",
        "\n",
        "```\n",
        "unsupervised_default = {\n",
        "    'model': \"skipgram\",\n",
        "    'lr': 0.05,\n",
        "    'dim': 100,\n",
        "    'ws': 5,\n",
        "    'epoch': 5,\n",
        "    'minCount': 5,\n",
        "    'minCountLabel': 0,\n",
        "    'minn': 3,\n",
        "    'maxn': 6,\n",
        "    'neg': 5,\n",
        "    'wordNgrams': 1,\n",
        "    'loss': \"ns\",\n",
        "    'bucket': 2000000,\n",
        "    'thread': multiprocessing.cpu_count() - 1,\n",
        "    'lrUpdateRate': 100,\n",
        "    't': 1e-4,\n",
        "    'label': \"__label__\",\n",
        "    'verbose': 2,\n",
        "    'pretrainedVectors': \"\",\n",
        "    'seed': 0,\n",
        "    'autotuneValidationFile': \"\",\n",
        "    'autotuneMetric': \"f1\",\n",
        "    'autotunePredictions': 1,\n",
        "    'autotuneDuration': 60 * 5,  # 5 minutes\n",
        "    'autotuneModelSize': \"\"\n",
        "}\n",
        "```"
      ],
      "metadata": {
        "id": "jlS9xiFt28eV"
      }
    },
    {
      "cell_type": "code",
      "source": [
        "import fasttext\n",
        "my_model = fasttext.train_unsupervised('data/tiny_en_Wiki/fil9')\n",
        "# training time: 2hr, RAM: 9.4GB, Disk: 27.0GB, 4 core\n",
        "# how to get more compute resorces:\n",
        "# opt1. use better local machine/connect to local host\n",
        "# opt2. connect to Google Virtual Machine (GVM)"
      ],
      "metadata": {
        "id": "gpYQZViTjJEN"
      },
      "execution_count": 28,
      "outputs": []
    },
    {
      "cell_type": "markdown",
      "source": [
        "Here is an example code of how to customize your own parameter:\n",
        "```\n",
        "model = fasttext.train_unsupervised('data/tiny_en_Wiki/fil9', epoch=1, lr=0.5)\n",
        "```"
      ],
      "metadata": {
        "id": "47pIrmuz4OuZ"
      }
    },
    {
      "cell_type": "code",
      "source": [
        "my_model.words[:30]"
      ],
      "metadata": {
        "id": "XuTvAc3Ajd7n",
        "colab": {
          "base_uri": "https://localhost:8080/"
        },
        "outputId": "e7a8bd60-e8c5-4d30-9458-290dfcb903a4"
      },
      "execution_count": 32,
      "outputs": [
        {
          "output_type": "execute_result",
          "data": {
            "text/plain": [
              "['the',\n",
              " 'of',\n",
              " 'one',\n",
              " 'zero',\n",
              " 'and',\n",
              " 'in',\n",
              " 'two',\n",
              " 'a',\n",
              " 'nine',\n",
              " 'to',\n",
              " 'is',\n",
              " 'eight',\n",
              " 'three',\n",
              " 'four',\n",
              " 'five',\n",
              " 'six',\n",
              " 'seven',\n",
              " 'for',\n",
              " 'are',\n",
              " 'as',\n",
              " 'was',\n",
              " 's',\n",
              " 'with',\n",
              " 'by',\n",
              " 'from',\n",
              " 'that',\n",
              " 'on',\n",
              " 'or',\n",
              " 'it',\n",
              " 'at']"
            ]
          },
          "metadata": {},
          "execution_count": 32
        }
      ]
    },
    {
      "cell_type": "code",
      "source": [
        "my_model.get_word_vector('business')"
      ],
      "metadata": {
        "id": "pJde2LL_ju47",
        "colab": {
          "base_uri": "https://localhost:8080/"
        },
        "outputId": "7d9aefbd-8386-43b0-89f3-fcbb0a666136"
      },
      "execution_count": 33,
      "outputs": [
        {
          "output_type": "execute_result",
          "data": {
            "text/plain": [
              "array([ 0.27145997,  0.04903308,  0.12494824, -0.09472214, -0.0802509 ,\n",
              "        0.14166524, -0.35092482, -0.26776573,  0.23604995, -0.42009318,\n",
              "        0.18008986,  0.4908855 , -0.44141048, -0.0344308 ,  0.1765782 ,\n",
              "       -0.5394984 , -0.00714607, -0.20844656,  0.13427804, -0.01967354,\n",
              "       -0.34965718, -0.04027196,  0.28748438, -0.61245716, -0.53191185,\n",
              "       -0.05089269,  0.17186832, -0.49931455,  0.42541125,  0.1389539 ,\n",
              "        0.17144738, -0.00709736,  0.15081407, -0.08687492, -0.38695407,\n",
              "        0.15503404, -0.23869658,  0.6247077 , -0.18065308,  0.45242637,\n",
              "        0.2869621 ,  0.5218008 ,  0.00551489,  0.23677549,  0.4656466 ,\n",
              "        0.04830477,  0.43622276, -0.46874878, -0.1636521 ,  0.07875084,\n",
              "        0.28107744, -0.14362164,  0.38284814, -0.11255915,  0.20197074,\n",
              "        0.00800322, -0.16106468,  0.2194451 ,  0.26752743, -0.2506735 ,\n",
              "       -0.17488182,  0.29191926,  0.18379547, -0.19985268,  0.18061788,\n",
              "        0.20076558,  0.26102576,  0.2653019 , -0.21332307,  0.4841613 ,\n",
              "        0.005629  ,  0.21454456,  0.1323073 ,  0.15949889,  0.02953536,\n",
              "        0.11346119, -0.30370152,  0.20346786, -0.03862326, -0.07921752,\n",
              "       -0.02421164,  0.00145683, -0.10765424,  0.14368871,  0.24665557,\n",
              "        0.2476191 ,  0.24143365, -0.00586699, -0.19844502, -0.30312836,\n",
              "        0.4304775 ,  0.30578318, -0.2313817 ,  0.43534005, -0.49542895,\n",
              "       -0.13129234,  0.00600167,  0.19254138, -0.00683809, -0.2540953 ],\n",
              "      dtype=float32)"
            ]
          },
          "metadata": {},
          "execution_count": 33
        }
      ]
    },
    {
      "cell_type": "code",
      "source": [
        "my_model.get_nearest_neighbors('business')"
      ],
      "metadata": {
        "id": "fD8xpx3bkqBT",
        "colab": {
          "base_uri": "https://localhost:8080/"
        },
        "outputId": "0b3faac8-a1b1-49ca-d50e-bfd1796dbd4e"
      },
      "execution_count": 34,
      "outputs": [
        {
          "output_type": "execute_result",
          "data": {
            "text/plain": [
              "[(0.8689184188842773, 'ebusiness'),\n",
              " (0.7938203811645508, 'corporate'),\n",
              " (0.779841423034668, 'busines'),\n",
              " (0.7747765183448792, 'entrepreneurship'),\n",
              " (0.7723420262336731, 'consultancy'),\n",
              " (0.7720124125480652, 'businessweek'),\n",
              " (0.7691093683242798, 'outsourcing'),\n",
              " (0.7689657807350159, 'businesses'),\n",
              " (0.7660577297210693, 'banking'),\n",
              " (0.7647511959075928, 'firms')]"
            ]
          },
          "metadata": {},
          "execution_count": 34
        }
      ]
    },
    {
      "cell_type": "markdown",
      "source": [
        "Save model as a binary file"
      ],
      "metadata": {
        "id": "Y-yROEEgka63"
      }
    },
    {
      "cell_type": "code",
      "source": [
        "my_model.save_model(\"my.ft.model.bin\")"
      ],
      "metadata": {
        "id": "miUXysI3jycf"
      },
      "execution_count": 35,
      "outputs": []
    },
    {
      "cell_type": "markdown",
      "source": [
        "Reload later instead of training again"
      ],
      "metadata": {
        "id": "GyHp5LXakOIB"
      }
    },
    {
      "cell_type": "code",
      "source": [
        "import fasttext as ft\n",
        "new_model = ft.load_model(\"my.ft.model.bin\")"
      ],
      "metadata": {
        "id": "pAmMMo2skCAO"
      },
      "execution_count": 36,
      "outputs": []
    }
  ]
}