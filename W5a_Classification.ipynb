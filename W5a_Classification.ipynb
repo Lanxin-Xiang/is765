{
  "nbformat": 4,
  "nbformat_minor": 0,
  "metadata": {
    "colab": {
      "provenance": [],
      "authorship_tag": "ABX9TyNbgUkeAiKJORemtWm0y3eM",
      "include_colab_link": true
    },
    "kernelspec": {
      "name": "python3",
      "display_name": "Python 3"
    },
    "language_info": {
      "name": "python"
    }
  },
  "cells": [
    {
      "cell_type": "markdown",
      "metadata": {
        "id": "view-in-github",
        "colab_type": "text"
      },
      "source": [
        "<a href=\"https://colab.research.google.com/github/Lanxin-Xiang/is765/blob/main/W5a_Classification.ipynb\" target=\"_parent\"><img src=\"https://colab.research.google.com/assets/colab-badge.svg\" alt=\"Open In Colab\"/></a>"
      ]
    },
    {
      "cell_type": "markdown",
      "source": [
        "# W5a. Classification\n",
        "\n",
        "Ref:\n",
        "\n",
        "https://colab.research.google.com/github/tensorflow/tensorboard/blob/master/docs/tensorboard_in_notebooks.ipynb\n",
        "\n",
        "https://colab.research.google.com/github/tensorflow/tensorboard/blob/master/docs/get_started.ipynb#scrollTo=Q3nupQL24E5E\n",
        "\n",
        "https://www.tensorflow.org/tutorials/structured_data/imbalanced_data\n",
        "\n",
        "https://fasttext.cc/docs/en/supervised-tutorial.html"
      ],
      "metadata": {
        "id": "nqAwMloVaiMP"
      }
    },
    {
      "cell_type": "markdown",
      "source": [
        "## Classification task with LSTM"
      ],
      "metadata": {
        "id": "bajR83iNBDxH"
      }
    },
    {
      "cell_type": "markdown",
      "source": [
        "We will use a [sentiment classification dataset on UCI](https://archive.ics.uci.edu/ml/datasets/Sentiment+Labelled+Sentences) to illustrate how to implement a lstm deep learning model with logit classifier. Download this dataset and import it with code below."
      ],
      "metadata": {
        "id": "ZO0I2bSl2Jxx"
      }
    },
    {
      "cell_type": "code",
      "source": [
        "from google.colab import drive\n",
        "drive.mount('/content/drive') #, force_remount=True)"
      ],
      "metadata": {
        "colab": {
          "base_uri": "https://localhost:8080/"
        },
        "id": "Ge6VUPkwK8hp",
        "outputId": "d58c76ef-de83-4261-d0ad-8b9f72415ff1"
      },
      "execution_count": 1,
      "outputs": [
        {
          "output_type": "stream",
          "name": "stdout",
          "text": [
            "Mounted at /content/drive\n"
          ]
        }
      ]
    },
    {
      "cell_type": "code",
      "source": [
        "%cd drive/MyDrive/is765"
      ],
      "metadata": {
        "colab": {
          "base_uri": "https://localhost:8080/"
        },
        "id": "8Z6WojywOdAg",
        "outputId": "0aed41d7-ab70-4aa9-eb80-573efa8780d0"
      },
      "execution_count": 2,
      "outputs": [
        {
          "output_type": "stream",
          "name": "stdout",
          "text": [
            "/content/drive/MyDrive/is765\n"
          ]
        }
      ]
    },
    {
      "cell_type": "code",
      "source": [
        "import tensorflow as tf\n",
        "from tensorflow import keras\n",
        "import numpy as np\n",
        "from pprint import pprint\n",
        "from keras.layers import Embedding, LSTM, Dense, Dropout\n",
        "from keras.models import Sequential\n",
        "from keras.callbacks import EarlyStopping, ModelCheckpoint, TensorBoard\n",
        "from sklearn.model_selection import train_test_split\n",
        "import matplotlib.pyplot as plt\n",
        "import tensorflow as tf\n",
        "import os\n",
        "import datetime\n",
        "import math"
      ],
      "metadata": {
        "id": "u4gBIZSfP39l"
      },
      "execution_count": 3,
      "outputs": []
    },
    {
      "cell_type": "code",
      "source": [
        "!wget -nc -P data/ https://archive.ics.uci.edu/static/public/331/sentiment+labelled+sentences.zip # -nc skip if files exist\n",
        "!unzip -n data/sentiment+labelled+sentences.zip -d data/ # -n skip if files exist"
      ],
      "metadata": {
        "id": "4MHC_FRO24be",
        "colab": {
          "base_uri": "https://localhost:8080/"
        },
        "outputId": "653b9805-70e1-4547-8870-df57d4dcf0f4"
      },
      "execution_count": 4,
      "outputs": [
        {
          "output_type": "stream",
          "name": "stdout",
          "text": [
            "File ‘data/sentiment+labelled+sentences.zip’ already there; not retrieving.\n",
            "\n",
            "Archive:  data/sentiment+labelled+sentences.zip\n"
          ]
        }
      ]
    },
    {
      "cell_type": "markdown",
      "source": [
        "Create two numpy arrays to store the texts and labels separately."
      ],
      "metadata": {
        "id": "E2_5_wb94cPo"
      }
    },
    {
      "cell_type": "code",
      "source": [
        "text = []\n",
        "label = []\n",
        "for line in open(\"data/sentiment labelled sentences/yelp_labelled.txt\"):\n",
        "    line = line.rstrip('\\n').split('\\t')\n",
        "    text.append(line[0])\n",
        "    label.append(int(line[1]))\n",
        "text = np.array(text)\n",
        "label = np.array(label)"
      ],
      "metadata": {
        "id": "98EMJME13Ugl"
      },
      "execution_count": 5,
      "outputs": []
    },
    {
      "cell_type": "code",
      "source": [
        "num_print = 10\n",
        "print(np.hstack((text[:num_print].reshape(num_print,1), label[:num_print].reshape(num_print,1))))"
      ],
      "metadata": {
        "colab": {
          "base_uri": "https://localhost:8080/"
        },
        "id": "CLtztlSBSiH3",
        "outputId": "a795c592-3964-46a9-c9cb-cb5f1937adb5"
      },
      "execution_count": 6,
      "outputs": [
        {
          "output_type": "stream",
          "name": "stdout",
          "text": [
            "[['Wow... Loved this place.' '1']\n",
            " ['Crust is not good.' '0']\n",
            " ['Not tasty and the texture was just nasty.' '0']\n",
            " ['Stopped by during the late May bank holiday off Rick Steve recommendation and loved it.'\n",
            "  '1']\n",
            " ['The selection on the menu was great and so were the prices.' '1']\n",
            " ['Now I am getting angry and I want my damn pho.' '0']\n",
            " [\"Honeslty it didn't taste THAT fresh.)\" '0']\n",
            " ['The potatoes were like rubber and you could tell they had been made up ahead of time being kept under a warmer.'\n",
            "  '0']\n",
            " ['The fries were great too.' '1']\n",
            " ['A great touch.' '1']]\n"
          ]
        }
      ]
    },
    {
      "cell_type": "markdown",
      "source": [
        "Here we use the `TextVectorization()` function in `keras` to complete basic text processing tasks. See the function documentation [here](https://www.tensorflow.org/api_docs/python/tf/keras/layers/experimental/preprocessing/TextVectorization). In particular, you can control the following things:\n",
        "- tokenization (split)\n",
        "- lowercasing and remove puctuation (standardize)\n",
        "- optionally generate ngrams\n",
        "- turn into integer representation (output_mode = 'int')\n",
        "- whether to pad texts of different length to the same sequence length (output_sequence_length)"
      ],
      "metadata": {
        "id": "xeyDzRGG6K0o"
      }
    },
    {
      "cell_type": "code",
      "source": [
        "vectorize_layer = keras.layers.experimental.preprocessing.TextVectorization(\n",
        "    max_tokens = None,\n",
        "    standardize = 'lower_and_strip_punctuation',\n",
        "    split = 'whitespace',\n",
        "    ngrams = None,\n",
        "    output_mode = 'int',\n",
        "    output_sequence_length = None\n",
        ")"
      ],
      "metadata": {
        "id": "WzRpWSUvQtwm"
      },
      "execution_count": 7,
      "outputs": []
    },
    {
      "cell_type": "code",
      "execution_count": 8,
      "metadata": {
        "id": "jpP_D1KR1eiW"
      },
      "outputs": [],
      "source": [
        "# apply it to the text data with \"adapt\"\n",
        "vectorize_layer.adapt(text)"
      ]
    },
    {
      "cell_type": "code",
      "execution_count": null,
      "metadata": {
        "id": "pYwWEx3O1eiX"
      },
      "outputs": [],
      "source": [
        "# check preprocessing results, such as vocabulary,\n",
        "vectorize_layer.get_vocabulary()"
      ]
    },
    {
      "cell_type": "code",
      "execution_count": 10,
      "metadata": {
        "id": "0cXkWqE91eiY",
        "colab": {
          "base_uri": "https://localhost:8080/"
        },
        "outputId": "a8d65a79-7150-49af-d525-fe88e32207e0"
      },
      "outputs": [
        {
          "output_type": "execute_result",
          "data": {
            "text/plain": [
              "2082"
            ]
          },
          "metadata": {},
          "execution_count": 10
        }
      ],
      "source": [
        "len(vectorize_layer.get_vocabulary())"
      ]
    },
    {
      "cell_type": "markdown",
      "metadata": {
        "id": "psXF9Iuk1eiZ"
      },
      "source": [
        "Note that the vocabulary contains two special tokens:\n",
        "- ' ' is called the **padding token**. It is an empty string, correspond to index 0, that can be used to pad texts of different lengths to the same sequence length. When this text vectorization layer is applied to a set of texts, it automatically perform padding (to the longest sequence).\n",
        "- '[UNK]' is called the **Out-of-Vocabulary token**. It is used to represent any word that does not appear in the vocabulary."
      ]
    },
    {
      "cell_type": "markdown",
      "metadata": {
        "id": "8iXEkh881eiZ"
      },
      "source": [
        "The next block of code is for demonstration purpose only - it is typically NOT needed in actual model building. We want to use `vectorize_layer` to process some texts and represent them as indices in vocabulary."
      ]
    },
    {
      "cell_type": "code",
      "execution_count": 11,
      "metadata": {
        "id": "QZJuc8AS1eia",
        "colab": {
          "base_uri": "https://localhost:8080/"
        },
        "outputId": "0a6339ee-79e2-413f-ff1d-20f7f679ae62"
      },
      "outputs": [
        {
          "output_type": "execute_result",
          "data": {
            "text/plain": [
              "<tf.Tensor: shape=(2, 3), dtype=int64, numpy=\n",
              "array([[20, 17, 12],\n",
              "       [ 1,  1,  0]])>"
            ]
          },
          "metadata": {},
          "execution_count": 11
        }
      ],
      "source": [
        "# now use it to process some text\n",
        "input_text = [['very good food'], ['language model']]\n",
        "vectorize_layer(input_text)"
      ]
    },
    {
      "cell_type": "markdown",
      "source": [
        "We will demostrate how to use both `tensorboard` and `matplotpy` to visualize the training process. Unlike plotting loss and accuracy with history object, we need to specify our logging directory with callbacks when compiling models."
      ],
      "metadata": {
        "id": "9jlol4vDBsVv"
      }
    },
    {
      "cell_type": "code",
      "source": [
        "# install tensorboard if needed\n",
        "\n",
        "!pip install tensorboard"
      ],
      "metadata": {
        "colab": {
          "base_uri": "https://localhost:8080/"
        },
        "id": "9apGo__EO4NA",
        "outputId": "fac87887-81b7-47c4-c882-28516e2a46f4"
      },
      "execution_count": 13,
      "outputs": [
        {
          "output_type": "stream",
          "name": "stdout",
          "text": [
            "Requirement already satisfied: tensorboard in /usr/local/lib/python3.10/dist-packages (2.13.0)\n",
            "Requirement already satisfied: absl-py>=0.4 in /usr/local/lib/python3.10/dist-packages (from tensorboard) (1.4.0)\n",
            "Requirement already satisfied: grpcio>=1.48.2 in /usr/local/lib/python3.10/dist-packages (from tensorboard) (1.57.0)\n",
            "Requirement already satisfied: google-auth<3,>=1.6.3 in /usr/local/lib/python3.10/dist-packages (from tensorboard) (2.17.3)\n",
            "Requirement already satisfied: google-auth-oauthlib<1.1,>=0.5 in /usr/local/lib/python3.10/dist-packages (from tensorboard) (1.0.0)\n",
            "Requirement already satisfied: markdown>=2.6.8 in /usr/local/lib/python3.10/dist-packages (from tensorboard) (3.4.4)\n",
            "Requirement already satisfied: numpy>=1.12.0 in /usr/local/lib/python3.10/dist-packages (from tensorboard) (1.23.5)\n",
            "Requirement already satisfied: protobuf>=3.19.6 in /usr/local/lib/python3.10/dist-packages (from tensorboard) (3.20.3)\n",
            "Requirement already satisfied: requests<3,>=2.21.0 in /usr/local/lib/python3.10/dist-packages (from tensorboard) (2.31.0)\n",
            "Requirement already satisfied: setuptools>=41.0.0 in /usr/local/lib/python3.10/dist-packages (from tensorboard) (67.7.2)\n",
            "Requirement already satisfied: tensorboard-data-server<0.8.0,>=0.7.0 in /usr/local/lib/python3.10/dist-packages (from tensorboard) (0.7.1)\n",
            "Requirement already satisfied: werkzeug>=1.0.1 in /usr/local/lib/python3.10/dist-packages (from tensorboard) (2.3.7)\n",
            "Requirement already satisfied: wheel>=0.26 in /usr/local/lib/python3.10/dist-packages (from tensorboard) (0.41.2)\n",
            "Requirement already satisfied: cachetools<6.0,>=2.0.0 in /usr/local/lib/python3.10/dist-packages (from google-auth<3,>=1.6.3->tensorboard) (5.3.1)\n",
            "Requirement already satisfied: pyasn1-modules>=0.2.1 in /usr/local/lib/python3.10/dist-packages (from google-auth<3,>=1.6.3->tensorboard) (0.3.0)\n",
            "Requirement already satisfied: six>=1.9.0 in /usr/local/lib/python3.10/dist-packages (from google-auth<3,>=1.6.3->tensorboard) (1.16.0)\n",
            "Requirement already satisfied: rsa<5,>=3.1.4 in /usr/local/lib/python3.10/dist-packages (from google-auth<3,>=1.6.3->tensorboard) (4.9)\n",
            "Requirement already satisfied: requests-oauthlib>=0.7.0 in /usr/local/lib/python3.10/dist-packages (from google-auth-oauthlib<1.1,>=0.5->tensorboard) (1.3.1)\n",
            "Requirement already satisfied: charset-normalizer<4,>=2 in /usr/local/lib/python3.10/dist-packages (from requests<3,>=2.21.0->tensorboard) (3.2.0)\n",
            "Requirement already satisfied: idna<4,>=2.5 in /usr/local/lib/python3.10/dist-packages (from requests<3,>=2.21.0->tensorboard) (3.4)\n",
            "Requirement already satisfied: urllib3<3,>=1.21.1 in /usr/local/lib/python3.10/dist-packages (from requests<3,>=2.21.0->tensorboard) (2.0.4)\n",
            "Requirement already satisfied: certifi>=2017.4.17 in /usr/local/lib/python3.10/dist-packages (from requests<3,>=2.21.0->tensorboard) (2023.7.22)\n",
            "Requirement already satisfied: MarkupSafe>=2.1.1 in /usr/local/lib/python3.10/dist-packages (from werkzeug>=1.0.1->tensorboard) (2.1.3)\n",
            "Requirement already satisfied: pyasn1<0.6.0,>=0.4.6 in /usr/local/lib/python3.10/dist-packages (from pyasn1-modules>=0.2.1->google-auth<3,>=1.6.3->tensorboard) (0.5.0)\n",
            "Requirement already satisfied: oauthlib>=3.0.0 in /usr/local/lib/python3.10/dist-packages (from requests-oauthlib>=0.7.0->google-auth-oauthlib<1.1,>=0.5->tensorboard) (3.2.2)\n"
          ]
        }
      ]
    },
    {
      "cell_type": "code",
      "source": [
        "# load tensorboard for later analysis.\n",
        "%load_ext tensorboard"
      ],
      "metadata": {
        "id": "SQeTKcara5Lb"
      },
      "execution_count": 15,
      "outputs": []
    },
    {
      "cell_type": "code",
      "execution_count": 16,
      "metadata": {
        "id": "QVnTNrJz1eic"
      },
      "outputs": [],
      "source": [
        "logdir = os.path.join(\"logs\", datetime.datetime.now().strftime(\"%Y%m%d-%H%M%S\")) # specify log directory\n",
        "\n",
        "model = Sequential()\n",
        "model.add(vectorize_layer)\n",
        "model.add(Embedding(\n",
        "    input_dim = len(vectorize_layer.get_vocabulary()),\n",
        "    output_dim = 64,\n",
        "    mask_zero = True\n",
        "))\n",
        "model.add(LSTM(64, return_sequences = True))\n",
        "model.add(Dropout(0.2))\n",
        "model.add(LSTM(128))\n",
        "model.add(Dense(1, activation='sigmoid'))\n",
        "\n",
        "checkpoint_callback = ModelCheckpoint(filepath= '/tmp/checkpoint', monitor=\"val_accuracy\", save_best_only=True)\n",
        "tensorboard_callback = TensorBoard(log_dir=logdir)\n",
        "earlystopping_callback = EarlyStopping(monitor='val_accuracy', min_delta=0, patience=5, verbose=0, mode='auto')\n",
        "\n",
        "callbacks_list = [checkpoint_callback, tensorboard_callback, earlystopping_callback]"
      ]
    },
    {
      "cell_type": "markdown",
      "metadata": {
        "id": "uaOUkScz1eid"
      },
      "source": [
        "We reuse the model introduced in W4b by modifying the structure to complish a classification task. Because we only need a single output at the end of the entire LSTM, we only need to specify the total number of LSTM units in the `LSTM` function."
      ]
    },
    {
      "cell_type": "code",
      "execution_count": 17,
      "metadata": {
        "id": "Xwi84G5s1eid"
      },
      "outputs": [],
      "source": [
        "# configure training / optimization\n",
        "opt = keras.optimizers.Adam(learning_rate=0.005)\n",
        "model.compile(loss = keras.losses.BinaryCrossentropy(),\n",
        "                  optimizer=opt,\n",
        "                  metrics=['accuracy'])"
      ]
    },
    {
      "cell_type": "code",
      "execution_count": 18,
      "metadata": {
        "id": "M2LALZcq1eie",
        "outputId": "ff253fa1-1dcb-452b-9897-e78c31b3a880",
        "colab": {
          "base_uri": "https://localhost:8080/"
        }
      },
      "outputs": [
        {
          "output_type": "stream",
          "name": "stdout",
          "text": [
            "Epoch 1/20\n",
            "25/25 [==============================] - 52s 2s/step - loss: 0.6463 - accuracy: 0.6350 - val_loss: 0.6767 - val_accuracy: 0.5850\n",
            "Epoch 2/20\n",
            "25/25 [==============================] - 38s 2s/step - loss: 0.2531 - accuracy: 0.9100 - val_loss: 0.6757 - val_accuracy: 0.7150\n",
            "Epoch 3/20\n",
            "25/25 [==============================] - 4s 144ms/step - loss: 0.0926 - accuracy: 0.9700 - val_loss: 0.9656 - val_accuracy: 0.6950\n",
            "Epoch 4/20\n",
            "25/25 [==============================] - 23s 951ms/step - loss: 0.0261 - accuracy: 0.9925 - val_loss: 1.0259 - val_accuracy: 0.7500\n",
            "Epoch 5/20\n",
            "25/25 [==============================] - 23s 968ms/step - loss: 0.0229 - accuracy: 0.9925 - val_loss: 0.9893 - val_accuracy: 0.7750\n",
            "Epoch 6/20\n",
            "25/25 [==============================] - 2s 94ms/step - loss: 0.0222 - accuracy: 0.9937 - val_loss: 1.1429 - val_accuracy: 0.6750\n",
            "Epoch 7/20\n",
            "25/25 [==============================] - 2s 92ms/step - loss: 0.0069 - accuracy: 0.9987 - val_loss: 1.4623 - val_accuracy: 0.7650\n",
            "Epoch 8/20\n",
            "25/25 [==============================] - 2s 88ms/step - loss: 0.0064 - accuracy: 0.9975 - val_loss: 1.3828 - val_accuracy: 0.7350\n",
            "Epoch 9/20\n",
            "25/25 [==============================] - 3s 128ms/step - loss: 0.0332 - accuracy: 0.9912 - val_loss: 0.9561 - val_accuracy: 0.7500\n",
            "Epoch 10/20\n",
            "25/25 [==============================] - 4s 155ms/step - loss: 0.0199 - accuracy: 0.9912 - val_loss: 1.0383 - val_accuracy: 0.7400\n",
            "Epoch 11/20\n",
            "25/25 [==============================] - 2s 93ms/step - loss: 0.0085 - accuracy: 0.9975 - val_loss: 1.2337 - val_accuracy: 0.7350\n",
            "Epoch 12/20\n",
            "25/25 [==============================] - 2s 98ms/step - loss: 0.0010 - accuracy: 1.0000 - val_loss: 1.4852 - val_accuracy: 0.7250\n",
            "Epoch 13/20\n",
            "25/25 [==============================] - 2s 94ms/step - loss: 3.6171e-04 - accuracy: 1.0000 - val_loss: 1.6139 - val_accuracy: 0.7250\n",
            "Epoch 14/20\n",
            "25/25 [==============================] - 2s 100ms/step - loss: 2.3796e-04 - accuracy: 1.0000 - val_loss: 1.6994 - val_accuracy: 0.7200\n",
            "Epoch 15/20\n",
            "25/25 [==============================] - 4s 143ms/step - loss: 1.9382e-04 - accuracy: 1.0000 - val_loss: 1.7553 - val_accuracy: 0.7200\n",
            "Epoch 16/20\n",
            "25/25 [==============================] - 4s 144ms/step - loss: 1.4428e-04 - accuracy: 1.0000 - val_loss: 1.8031 - val_accuracy: 0.7250\n",
            "Epoch 17/20\n",
            "25/25 [==============================] - 2s 93ms/step - loss: 1.6343e-04 - accuracy: 1.0000 - val_loss: 1.8508 - val_accuracy: 0.7300\n",
            "Epoch 18/20\n",
            "25/25 [==============================] - 2s 96ms/step - loss: 1.3532e-04 - accuracy: 1.0000 - val_loss: 1.9077 - val_accuracy: 0.7300\n",
            "Epoch 19/20\n",
            "25/25 [==============================] - 2s 88ms/step - loss: 9.6997e-05 - accuracy: 1.0000 - val_loss: 1.9342 - val_accuracy: 0.7300\n",
            "Epoch 20/20\n",
            "25/25 [==============================] - 3s 126ms/step - loss: 9.3846e-05 - accuracy: 1.0000 - val_loss: 1.9610 - val_accuracy: 0.7300\n"
          ]
        }
      ],
      "source": [
        "# training with 20% validation and 20 epochs.\n",
        "history = model.fit(x=text, y=label, validation_split=0.2, epochs=20,\n",
        "                    batch_size=32, callbacks=[checkpoint_callback, tensorboard_callback])"
      ]
    },
    {
      "cell_type": "markdown",
      "source": [
        "**Visualize with plt**"
      ],
      "metadata": {
        "id": "euDbE_cFKLjp"
      }
    },
    {
      "cell_type": "code",
      "source": [
        "# Plotting the loss curve\n",
        "plt.figure(figsize=[6,4])\n",
        "plt.plot(history.history['loss'], 'black', linewidth=2.0)\n",
        "plt.plot(history.history['val_loss'], 'blue', linewidth=2.0)\n",
        "plt.legend(['Training Loss', 'Validation Loss'], fontsize=14)\n",
        "plt.xlabel('Epochs', fontsize=10)\n",
        "plt.ylabel('Loss', fontsize=10)\n",
        "plt.title('Loss Curves', fontsize=12)\n",
        "\n",
        "# Plotting the accuracy curve\n",
        "plt.figure(figsize=[6,4])\n",
        "plt.plot(history.history['accuracy'], 'black', linewidth=2.0)\n",
        "plt.plot(history.history['val_accuracy'], 'blue', linewidth=2.0)\n",
        "plt.legend(['Training Accuracy', 'Validation Accuracy'], fontsize=14)\n",
        "plt.xlabel('Epochs', fontsize=10)\n",
        "plt.ylabel('Accuracy', fontsize=10)\n",
        "plt.title('Accuracy Curves', fontsize=12)"
      ],
      "metadata": {
        "colab": {
          "base_uri": "https://localhost:8080/",
          "height": 820
        },
        "id": "iPSwHFL8bK5T",
        "outputId": "c54ae788-4cf9-40c1-a89c-6f63aece9603"
      },
      "execution_count": 19,
      "outputs": [
        {
          "output_type": "execute_result",
          "data": {
            "text/plain": [
              "Text(0.5, 1.0, 'Accuracy Curves')"
            ]
          },
          "metadata": {},
          "execution_count": 19
        },
        {
          "output_type": "display_data",
          "data": {
            "text/plain": [
              "<Figure size 600x400 with 1 Axes>"
            ],
            "image/png": "[encoded data removed]"
          },
          "metadata": {}
        },
        {
          "output_type": "display_data",
          "data": {
            "text/plain": [
              "<Figure size 600x400 with 1 Axes>"
            ],
            "image/png": "[encoded data removed]"
          },
          "metadata": {}
        }
      ]
    },
    {
      "cell_type": "markdown",
      "source": [
        "**Use tensorboard to visualize training process**"
      ],
      "metadata": {
        "id": "l5TInauLJrs2"
      }
    },
    {
      "cell_type": "markdown",
      "source": [
        "Load tensorboard with logging data.\n",
        "\n",
        "You might encounter **403** problem when loading tensorboard. Two possible solutions:\n",
        "\n",
        "1. Allow third-party coockies on your browser. For chrome users: chrome://settings/cookies\n",
        "\n",
        "2. Run the `tensorboard dev upload` code |bellow to log in google account and varify identity.\n",
        "\n",
        "You can find more about how to use tensorboard with Colab [here](https://colab.research.google.com/github/tensorflow/tensorboard/blob/master/docs/get_started.ipynb#scrollTo=Q3nupQL24E5E)!"
      ],
      "metadata": {
        "id": "-k0_s4DFKRHX"
      }
    },
    {
      "cell_type": "code",
      "source": [
        "%tensorboard --logdir logs"
      ],
      "metadata": {
        "id": "O5CBHy5uauUp",
        "colab": {
          "base_uri": "https://localhost:8080/",
          "height": 822
        },
        "outputId": "3a5b4b16-2a01-4dd7-c1df-5fd62ce3ba90"
      },
      "execution_count": 20,
      "outputs": [
        {
          "output_type": "display_data",
          "data": {
            "text/plain": [
              "<IPython.core.display.Javascript object>"
            ],
            "application/javascript": [
              "\n",
              "        (async () => {\n",
              "            const url = new URL(await google.colab.kernel.proxyPort(6006, {'cache': true}));\n",
              "            url.searchParams.set('tensorboardColab', 'true');\n",
              "            const iframe = document.createElement('iframe');\n",
              "            iframe.src = url;\n",
              "            iframe.setAttribute('width', '100%');\n",
              "            iframe.setAttribute('height', '800');\n",
              "            iframe.setAttribute('frameborder', 0);\n",
              "            document.body.appendChild(iframe);\n",
              "        })();\n",
              "    "
            ]
          },
          "metadata": {}
        }
      ]
    },
    {
      "cell_type": "code",
      "source": [
        "# upload tensorboard\n",
        "\n",
        "!tensorboard dev upload \\\n",
        "  --logdir logs/ \\\n",
        "  --name \"(optional) My latest experiment\" \\\n",
        "  --description \"(optional) Simple comparison of several hyperparameters\" \\\n",
        "  --one_shot"
      ],
      "metadata": {
        "colab": {
          "base_uri": "https://localhost:8080/"
        },
        "id": "Wgd7x5QHjX_H",
        "outputId": "32aacfa3-08d3-45ea-d9e2-52f1cf4590ed"
      },
      "execution_count": null,
      "outputs": [
        {
          "output_type": "stream",
          "name": "stdout",
          "text": [
            "2023-09-28 18:44:53.187059: W tensorflow/compiler/tf2tensorrt/utils/py_utils.cc:38] TF-TRT Warning: Could not find TensorRT\n",
            "\n",
            "New experiment created. View your TensorBoard at: https://tensorboard.dev/experiment/CdtOVrWyTkeGUOdRaKzFGQ/\n",
            "\n",
            "\u001b[1m[2023-09-28T18:44:55]\u001b[0m Started scanning logdir.\n",
            "E0928 18:44:56.790647 139091359760384 uploader.py:1122] Attempted to re-upload existing blob.  Skipping.\n",
            "E0928 18:44:59.784396 139091359760384 uploader.py:1122] Attempted to re-upload existing blob.  Skipping.\n",
            "\u001b[1m[2023-09-28T18:45:01]\u001b[0m Total uploaded: 564 scalars, 0 tensors, 4 binary objects (2.8 MB)\n",
            "\u001b[90mTotal skipped: 2 binary objects (1.1 MB)\n",
            "\u001b[0m\u001b[1m[2023-09-28T18:45:01]\u001b[0m Done scanning logdir.\n",
            "\n",
            "\n",
            "Done. View your TensorBoard at https://tensorboard.dev/experiment/CdtOVrWyTkeGUOdRaKzFGQ/\n"
          ]
        }
      ]
    },
    {
      "cell_type": "code",
      "execution_count": 21,
      "metadata": {
        "id": "rRYiT_-x1eie",
        "outputId": "eb82cfe5-6723-45d1-e3bf-7dedb1824470",
        "colab": {
          "base_uri": "https://localhost:8080/"
        }
      },
      "outputs": [
        {
          "output_type": "stream",
          "name": "stdout",
          "text": [
            "Model: \"sequential\"\n",
            "_________________________________________________________________\n",
            " Layer (type)                Output Shape              Param #   \n",
            "=================================================================\n",
            " text_vectorization (TextVe  (None, None)              0         \n",
            " ctorization)                                                    \n",
            "                                                                 \n",
            " embedding (Embedding)       (None, None, 64)          133248    \n",
            "                                                                 \n",
            " lstm (LSTM)                 (None, None, 64)          33024     \n",
            "                                                                 \n",
            " dropout (Dropout)           (None, None, 64)          0         \n",
            "                                                                 \n",
            " lstm_1 (LSTM)               (None, 128)               98816     \n",
            "                                                                 \n",
            " dense (Dense)               (None, 1)                 129       \n",
            "                                                                 \n",
            "=================================================================\n",
            "Total params: 265217 (1.01 MB)\n",
            "Trainable params: 265217 (1.01 MB)\n",
            "Non-trainable params: 0 (0.00 Byte)\n",
            "_________________________________________________________________\n"
          ]
        }
      ],
      "source": [
        "model.summary()"
      ]
    },
    {
      "cell_type": "code",
      "source": [
        "model.save('lstm.classification.keras')"
      ],
      "metadata": {
        "id": "IuuyQI3FQEhA"
      },
      "execution_count": 40,
      "outputs": []
    },
    {
      "cell_type": "code",
      "execution_count": 41,
      "metadata": {
        "id": "xF6rLnZq1eie",
        "outputId": "44c4bc73-a6fc-41d0-a0da-059e502747ca",
        "colab": {
          "base_uri": "https://localhost:8080/"
        }
      },
      "outputs": [
        {
          "output_type": "stream",
          "name": "stdout",
          "text": [
            "1/1 [==============================] - 3s 3s/step\n"
          ]
        },
        {
          "output_type": "execute_result",
          "data": {
            "text/plain": [
              "array([[0.8484372],\n",
              "       [0.9999966]], dtype=float32)"
            ]
          },
          "metadata": {},
          "execution_count": 41
        }
      ],
      "source": [
        "# try to make some predicitons\n",
        "model.predict([['I hate this meal!'], ['I love this restaurant']])"
      ]
    }
  ]
}