{
  "nbformat": 4,
  "nbformat_minor": 0,
  "metadata": {
    "colab": {
      "provenance": [],
      "authorship_tag": "ABX9TyNnMarCgoE4VztBAS2zpP7g",
      "include_colab_link": true
    },
    "kernelspec": {
      "name": "python3",
      "display_name": "Python 3"
    },
    "language_info": {
      "name": "python"
    }
  },
  "cells": [
    {
      "cell_type": "markdown",
      "metadata": {
        "id": "view-in-github",
        "colab_type": "text"
      },
      "source": [
        "<a href=\"https://colab.research.google.com/github/Lanxin-Xiang/is765/blob/main/W5a_Classification.ipynb\" target=\"_parent\"><img src=\"https://colab.research.google.com/assets/colab-badge.svg\" alt=\"Open In Colab\"/></a>"
      ]
    },
    {
      "cell_type": "markdown",
      "source": [
        "# W5a. Classification\n",
        "\n",
        "Ref:\n",
        "\n",
        "https://colab.research.google.com/github/tensorflow/tensorboard/blob/master/docs/tensorboard_in_notebooks.ipynb\n",
        "\n",
        "https://colab.research.google.com/github/tensorflow/tensorboard/blob/master/docs/get_started.ipynb#scrollTo=Q3nupQL24E5E\n",
        "\n",
        "https://www.tensorflow.org/tutorials/structured_data/imbalanced_data\n",
        "\n",
        "https://fasttext.cc/docs/en/supervised-tutorial.html\n",
        "\n",
        "https://towardsdatascience.com/fasttext-for-text-classification-a4b38cbff27c"
      ],
      "metadata": {
        "id": "nqAwMloVaiMP"
      }
    },
    {
      "cell_type": "markdown",
      "source": [
        "## Classification task with LSTM"
      ],
      "metadata": {
        "id": "bajR83iNBDxH"
      }
    },
    {
      "cell_type": "markdown",
      "source": [
        "We will use a [sentiment classification dataset on UCI](https://archive.ics.uci.edu/ml/datasets/Sentiment+Labelled+Sentences) to illustrate how to implement a lstm deep learning model with logit classifier. Download this dataset and import it with code below."
      ],
      "metadata": {
        "id": "ZO0I2bSl2Jxx"
      }
    },
    {
      "cell_type": "code",
      "source": [
        "from google.colab import drive\n",
        "drive.mount('/content/drive') #, force_remount=True)"
      ],
      "metadata": {
        "colab": {
          "base_uri": "https://localhost:8080/"
        },
        "id": "Ge6VUPkwK8hp",
        "outputId": "d58c76ef-de83-4261-d0ad-8b9f72415ff1"
      },
      "execution_count": null,
      "outputs": [
        {
          "output_type": "stream",
          "name": "stdout",
          "text": [
            "Mounted at /content/drive\n"
          ]
        }
      ]
    },
    {
      "cell_type": "code",
      "source": [
        "%cd drive/MyDrive/is765"
      ],
      "metadata": {
        "colab": {
          "base_uri": "https://localhost:8080/"
        },
        "id": "8Z6WojywOdAg",
        "outputId": "0aed41d7-ab70-4aa9-eb80-573efa8780d0"
      },
      "execution_count": null,
      "outputs": [
        {
          "output_type": "stream",
          "name": "stdout",
          "text": [
            "/content/drive/MyDrive/is765\n"
          ]
        }
      ]
    },
    {
      "cell_type": "code",
      "source": [
        "import tensorflow as tf\n",
        "from tensorflow import keras\n",
        "import numpy as np\n",
        "from pprint import pprint\n",
        "from keras.layers import Embedding, LSTM, Dense, Dropout\n",
        "from keras.models import Sequential\n",
        "from keras.callbacks import EarlyStopping, ModelCheckpoint, TensorBoard\n",
        "from sklearn.model_selection import train_test_split\n",
        "import matplotlib.pyplot as plt\n",
        "import tensorflow as tf\n",
        "import os\n",
        "import datetime\n",
        "import math"
      ],
      "metadata": {
        "id": "u4gBIZSfP39l"
      },
      "execution_count": 35,
      "outputs": []
    },
    {
      "cell_type": "code",
      "source": [
        "!wget -nc -P data/ https://archive.ics.uci.edu/static/public/331/sentiment+labelled+sentences.zip # -nc skip if files exist\n",
        "!unzip -n data/sentiment+labelled+sentences.zip -d data/ # -n skip if files exist"
      ],
      "metadata": {
        "id": "4MHC_FRO24be",
        "colab": {
          "base_uri": "https://localhost:8080/"
        },
        "outputId": "653b9805-70e1-4547-8870-df57d4dcf0f4"
      },
      "execution_count": null,
      "outputs": [
        {
          "output_type": "stream",
          "name": "stdout",
          "text": [
            "File ‘data/sentiment+labelled+sentences.zip’ already there; not retrieving.\n",
            "\n",
            "Archive:  data/sentiment+labelled+sentences.zip\n"
          ]
        }
      ]
    },
    {
      "cell_type": "markdown",
      "source": [
        "Create two numpy arrays to store the texts and labels separately."
      ],
      "metadata": {
        "id": "E2_5_wb94cPo"
      }
    },
    {
      "cell_type": "code",
      "source": [
        "text = []\n",
        "label = []\n",
        "for line in open(\"data/sentiment labelled sentences/yelp_labelled.txt\"):\n",
        "    line = line.rstrip('\\n').split('\\t')\n",
        "    text.append(line[0])\n",
        "    label.append(int(line[1]))\n",
        "text = np.array(text)\n",
        "label = np.array(label)"
      ],
      "metadata": {
        "id": "98EMJME13Ugl"
      },
      "execution_count": 36,
      "outputs": []
    },
    {
      "cell_type": "code",
      "source": [
        "num_print = 10\n",
        "print(np.hstack((text[:num_print].reshape(num_print,1), label[:num_print].reshape(num_print,1))))"
      ],
      "metadata": {
        "colab": {
          "base_uri": "https://localhost:8080/"
        },
        "id": "CLtztlSBSiH3",
        "outputId": "18d6aa73-df38-49be-a8af-8cb54ba75fff"
      },
      "execution_count": 37,
      "outputs": [
        {
          "output_type": "stream",
          "name": "stdout",
          "text": [
            "[['Wow... Loved this place.' '1']\n",
            " ['Crust is not good.' '0']\n",
            " ['Not tasty and the texture was just nasty.' '0']\n",
            " ['Stopped by during the late May bank holiday off Rick Steve recommendation and loved it.'\n",
            "  '1']\n",
            " ['The selection on the menu was great and so were the prices.' '1']\n",
            " ['Now I am getting angry and I want my damn pho.' '0']\n",
            " [\"Honeslty it didn't taste THAT fresh.)\" '0']\n",
            " ['The potatoes were like rubber and you could tell they had been made up ahead of time being kept under a warmer.'\n",
            "  '0']\n",
            " ['The fries were great too.' '1']\n",
            " ['A great touch.' '1']]\n"
          ]
        }
      ]
    },
    {
      "cell_type": "markdown",
      "source": [
        "Split the dataset. Set 20% of the data as validation data."
      ],
      "metadata": {
        "id": "IooPoAMWpxib"
      }
    },
    {
      "cell_type": "code",
      "source": [
        "X_train, X_test, y_train, y_test = train_test_split(text, label, test_size=0.2, random_state=42)"
      ],
      "metadata": {
        "id": "Y0QG6g9toJaQ"
      },
      "execution_count": 44,
      "outputs": []
    },
    {
      "cell_type": "markdown",
      "source": [
        "Here we use the `TextVectorization()` function in `keras` to complete basic text processing tasks. See the function documentation [here](https://www.tensorflow.org/api_docs/python/tf/keras/layers/experimental/preprocessing/TextVectorization). In particular, you can control the following things:\n",
        "- tokenization (split)\n",
        "- lowercasing and remove puctuation (standardize)\n",
        "- optionally generate ngrams\n",
        "- turn into integer representation (output_mode = 'int')\n",
        "- whether to pad texts of different length to the same sequence length (output_sequence_length)"
      ],
      "metadata": {
        "id": "xeyDzRGG6K0o"
      }
    },
    {
      "cell_type": "code",
      "source": [
        "vectorize_layer = keras.layers.experimental.preprocessing.TextVectorization(\n",
        "    max_tokens = None,\n",
        "    standardize = 'lower_and_strip_punctuation',\n",
        "    split = 'whitespace',\n",
        "    ngrams = None,\n",
        "    output_mode = 'int',\n",
        "    output_sequence_length = None\n",
        ")"
      ],
      "metadata": {
        "id": "WzRpWSUvQtwm"
      },
      "execution_count": 38,
      "outputs": []
    },
    {
      "cell_type": "code",
      "execution_count": 39,
      "metadata": {
        "id": "jpP_D1KR1eiW"
      },
      "outputs": [],
      "source": [
        "# apply it to the text data with \"adapt\"\n",
        "vectorize_layer.adapt(text)"
      ]
    },
    {
      "cell_type": "code",
      "execution_count": null,
      "metadata": {
        "id": "pYwWEx3O1eiX"
      },
      "outputs": [],
      "source": [
        "# check preprocessing results, such as vocabulary,\n",
        "vectorize_layer.get_vocabulary()"
      ]
    },
    {
      "cell_type": "code",
      "execution_count": 41,
      "metadata": {
        "id": "0cXkWqE91eiY",
        "colab": {
          "base_uri": "https://localhost:8080/"
        },
        "outputId": "69ad3fcc-e597-42c1-a69b-4c38423a2026"
      },
      "outputs": [
        {
          "output_type": "execute_result",
          "data": {
            "text/plain": [
              "2082"
            ]
          },
          "metadata": {},
          "execution_count": 41
        }
      ],
      "source": [
        "len(vectorize_layer.get_vocabulary())"
      ]
    },
    {
      "cell_type": "markdown",
      "metadata": {
        "id": "psXF9Iuk1eiZ"
      },
      "source": [
        "Note that the vocabulary contains two special tokens:\n",
        "- ' ' is called the **padding token**. It is an empty string, correspond to index 0, that can be used to pad texts of different lengths to the same sequence length. When this text vectorization layer is applied to a set of texts, it automatically perform padding (to the longest sequence).\n",
        "- '[UNK]' is called the **Out-of-Vocabulary token**. It is used to represent any word that does not appear in the vocabulary."
      ]
    },
    {
      "cell_type": "markdown",
      "metadata": {
        "id": "8iXEkh881eiZ"
      },
      "source": [
        "The next block of code is for demonstration purpose only - it is typically NOT needed in actual model building. We want to use `vectorize_layer` to process some texts and represent them as indices in vocabulary."
      ]
    },
    {
      "cell_type": "code",
      "execution_count": 42,
      "metadata": {
        "id": "QZJuc8AS1eia",
        "colab": {
          "base_uri": "https://localhost:8080/"
        },
        "outputId": "d7d18216-7ac6-4a19-cde4-51f6385518f8"
      },
      "outputs": [
        {
          "output_type": "execute_result",
          "data": {
            "text/plain": [
              "<tf.Tensor: shape=(2, 3), dtype=int64, numpy=\n",
              "array([[20, 17, 12],\n",
              "       [ 1,  1,  0]])>"
            ]
          },
          "metadata": {},
          "execution_count": 42
        }
      ],
      "source": [
        "# now use it to process some text\n",
        "input_text = [['very good food'], ['language model']]\n",
        "vectorize_layer(input_text)"
      ]
    },
    {
      "cell_type": "markdown",
      "source": [
        "We will demostrate how to use both `tensorboard` and `matplotpy` to visualize the training process. Unlike plotting loss and accuracy with history object, we need to specify our logging directory with callbacks when compiling models."
      ],
      "metadata": {
        "id": "9jlol4vDBsVv"
      }
    },
    {
      "cell_type": "code",
      "source": [
        "# install tensorboard if needed\n",
        "\n",
        "!pip install tensorboard"
      ],
      "metadata": {
        "colab": {
          "base_uri": "https://localhost:8080/"
        },
        "id": "9apGo__EO4NA",
        "outputId": "fac87887-81b7-47c4-c882-28516e2a46f4"
      },
      "execution_count": null,
      "outputs": [
        {
          "output_type": "stream",
          "name": "stdout",
          "text": [
            "Requirement already satisfied: tensorboard in /usr/local/lib/python3.10/dist-packages (2.13.0)\n",
            "Requirement already satisfied: absl-py>=0.4 in /usr/local/lib/python3.10/dist-packages (from tensorboard) (1.4.0)\n",
            "Requirement already satisfied: grpcio>=1.48.2 in /usr/local/lib/python3.10/dist-packages (from tensorboard) (1.57.0)\n",
            "Requirement already satisfied: google-auth<3,>=1.6.3 in /usr/local/lib/python3.10/dist-packages (from tensorboard) (2.17.3)\n",
            "Requirement already satisfied: google-auth-oauthlib<1.1,>=0.5 in /usr/local/lib/python3.10/dist-packages (from tensorboard) (1.0.0)\n",
            "Requirement already satisfied: markdown>=2.6.8 in /usr/local/lib/python3.10/dist-packages (from tensorboard) (3.4.4)\n",
            "Requirement already satisfied: numpy>=1.12.0 in /usr/local/lib/python3.10/dist-packages (from tensorboard) (1.23.5)\n",
            "Requirement already satisfied: protobuf>=3.19.6 in /usr/local/lib/python3.10/dist-packages (from tensorboard) (3.20.3)\n",
            "Requirement already satisfied: requests<3,>=2.21.0 in /usr/local/lib/python3.10/dist-packages (from tensorboard) (2.31.0)\n",
            "Requirement already satisfied: setuptools>=41.0.0 in /usr/local/lib/python3.10/dist-packages (from tensorboard) (67.7.2)\n",
            "Requirement already satisfied: tensorboard-data-server<0.8.0,>=0.7.0 in /usr/local/lib/python3.10/dist-packages (from tensorboard) (0.7.1)\n",
            "Requirement already satisfied: werkzeug>=1.0.1 in /usr/local/lib/python3.10/dist-packages (from tensorboard) (2.3.7)\n",
            "Requirement already satisfied: wheel>=0.26 in /usr/local/lib/python3.10/dist-packages (from tensorboard) (0.41.2)\n",
            "Requirement already satisfied: cachetools<6.0,>=2.0.0 in /usr/local/lib/python3.10/dist-packages (from google-auth<3,>=1.6.3->tensorboard) (5.3.1)\n",
            "Requirement already satisfied: pyasn1-modules>=0.2.1 in /usr/local/lib/python3.10/dist-packages (from google-auth<3,>=1.6.3->tensorboard) (0.3.0)\n",
            "Requirement already satisfied: six>=1.9.0 in /usr/local/lib/python3.10/dist-packages (from google-auth<3,>=1.6.3->tensorboard) (1.16.0)\n",
            "Requirement already satisfied: rsa<5,>=3.1.4 in /usr/local/lib/python3.10/dist-packages (from google-auth<3,>=1.6.3->tensorboard) (4.9)\n",
            "Requirement already satisfied: requests-oauthlib>=0.7.0 in /usr/local/lib/python3.10/dist-packages (from google-auth-oauthlib<1.1,>=0.5->tensorboard) (1.3.1)\n",
            "Requirement already satisfied: charset-normalizer<4,>=2 in /usr/local/lib/python3.10/dist-packages (from requests<3,>=2.21.0->tensorboard) (3.2.0)\n",
            "Requirement already satisfied: idna<4,>=2.5 in /usr/local/lib/python3.10/dist-packages (from requests<3,>=2.21.0->tensorboard) (3.4)\n",
            "Requirement already satisfied: urllib3<3,>=1.21.1 in /usr/local/lib/python3.10/dist-packages (from requests<3,>=2.21.0->tensorboard) (2.0.4)\n",
            "Requirement already satisfied: certifi>=2017.4.17 in /usr/local/lib/python3.10/dist-packages (from requests<3,>=2.21.0->tensorboard) (2023.7.22)\n",
            "Requirement already satisfied: MarkupSafe>=2.1.1 in /usr/local/lib/python3.10/dist-packages (from werkzeug>=1.0.1->tensorboard) (2.1.3)\n",
            "Requirement already satisfied: pyasn1<0.6.0,>=0.4.6 in /usr/local/lib/python3.10/dist-packages (from pyasn1-modules>=0.2.1->google-auth<3,>=1.6.3->tensorboard) (0.5.0)\n",
            "Requirement already satisfied: oauthlib>=3.0.0 in /usr/local/lib/python3.10/dist-packages (from requests-oauthlib>=0.7.0->google-auth-oauthlib<1.1,>=0.5->tensorboard) (3.2.2)\n"
          ]
        }
      ]
    },
    {
      "cell_type": "code",
      "source": [
        "# load tensorboard for later analysis.\n",
        "%load_ext tensorboard"
      ],
      "metadata": {
        "id": "SQeTKcara5Lb"
      },
      "execution_count": null,
      "outputs": []
    },
    {
      "cell_type": "code",
      "execution_count": 46,
      "metadata": {
        "id": "QVnTNrJz1eic"
      },
      "outputs": [],
      "source": [
        "logdir = os.path.join(\"logs\", datetime.datetime.now().strftime(\"%Y%m%d-%H%M%S\")) # specify log directory\n",
        "\n",
        "model = Sequential()\n",
        "model.add(vectorize_layer)\n",
        "model.add(Embedding(\n",
        "    input_dim = len(vectorize_layer.get_vocabulary()),\n",
        "    output_dim = 64,\n",
        "    mask_zero = True\n",
        "))\n",
        "model.add(LSTM(64, return_sequences = True))\n",
        "model.add(Dropout(0.2))\n",
        "model.add(LSTM(128))\n",
        "model.add(Dense(1, activation='sigmoid'))\n",
        "\n",
        "checkpoint_callback = ModelCheckpoint(filepath= '/tmp/checkpoint', monitor=\"val_accuracy\", save_best_only=True)\n",
        "tensorboard_callback = TensorBoard(log_dir=logdir)\n",
        "earlystopping_callback = EarlyStopping(monitor='val_accuracy', min_delta=0, patience=5, verbose=0, mode='auto')\n",
        "\n",
        "callbacks_list = [checkpoint_callback, tensorboard_callback, earlystopping_callback]"
      ]
    },
    {
      "cell_type": "markdown",
      "metadata": {
        "id": "uaOUkScz1eid"
      },
      "source": [
        "We reuse the model introduced in W4b by modifying the structure to complish a classification task. Because we only need a single output at the end of the entire LSTM, we only need to specify the total number of LSTM units in the `LSTM` function."
      ]
    },
    {
      "cell_type": "code",
      "execution_count": 47,
      "metadata": {
        "id": "Xwi84G5s1eid"
      },
      "outputs": [],
      "source": [
        "# configure training / optimization\n",
        "opt = keras.optimizers.Adam(learning_rate=0.005)\n",
        "model.compile(loss = keras.losses.BinaryCrossentropy(),\n",
        "                  optimizer=opt,\n",
        "                  metrics=['accuracy'])"
      ]
    },
    {
      "cell_type": "code",
      "execution_count": 48,
      "metadata": {
        "id": "M2LALZcq1eie",
        "outputId": "5d54e82e-d9c2-4689-f1e9-e4a592dc25ef",
        "colab": {
          "base_uri": "https://localhost:8080/"
        }
      },
      "outputs": [
        {
          "output_type": "stream",
          "name": "stdout",
          "text": [
            "Epoch 1/20\n",
            "25/25 [==============================] - 59s 2s/step - loss: 0.6216 - accuracy: 0.6375 - val_loss: 0.5205 - val_accuracy: 0.7650\n",
            "Epoch 2/20\n",
            "25/25 [==============================] - 32s 1s/step - loss: 0.2158 - accuracy: 0.9237 - val_loss: 0.5384 - val_accuracy: 0.7900\n",
            "Epoch 3/20\n",
            "25/25 [==============================] - 2s 83ms/step - loss: 0.0842 - accuracy: 0.9700 - val_loss: 0.8519 - val_accuracy: 0.7800\n",
            "Epoch 4/20\n",
            "25/25 [==============================] - 22s 926ms/step - loss: 0.0311 - accuracy: 0.9912 - val_loss: 0.8317 - val_accuracy: 0.7950\n",
            "Epoch 5/20\n",
            "25/25 [==============================] - 2s 94ms/step - loss: 0.0104 - accuracy: 0.9975 - val_loss: 1.3130 - val_accuracy: 0.7650\n",
            "Epoch 6/20\n",
            "25/25 [==============================] - 2s 89ms/step - loss: 0.0070 - accuracy: 0.9987 - val_loss: 1.3081 - val_accuracy: 0.7850\n",
            "Epoch 7/20\n",
            "25/25 [==============================] - 2s 89ms/step - loss: 0.0086 - accuracy: 0.9962 - val_loss: 1.0684 - val_accuracy: 0.7650\n",
            "Epoch 8/20\n",
            "25/25 [==============================] - 2s 90ms/step - loss: 0.0094 - accuracy: 0.9962 - val_loss: 1.4951 - val_accuracy: 0.7600\n",
            "Epoch 9/20\n",
            "25/25 [==============================] - 2s 94ms/step - loss: 0.0017 - accuracy: 1.0000 - val_loss: 1.3972 - val_accuracy: 0.7600\n",
            "Epoch 10/20\n",
            "25/25 [==============================] - 4s 142ms/step - loss: 0.0037 - accuracy: 0.9987 - val_loss: 1.1728 - val_accuracy: 0.7700\n",
            "Epoch 11/20\n",
            "25/25 [==============================] - 3s 109ms/step - loss: 0.0046 - accuracy: 0.9987 - val_loss: 1.6927 - val_accuracy: 0.7450\n",
            "Epoch 12/20\n",
            "25/25 [==============================] - 2s 89ms/step - loss: 0.0168 - accuracy: 0.9937 - val_loss: 1.3449 - val_accuracy: 0.7650\n",
            "Epoch 13/20\n",
            "25/25 [==============================] - 2s 83ms/step - loss: 0.1162 - accuracy: 0.9737 - val_loss: 1.0349 - val_accuracy: 0.7400\n",
            "Epoch 14/20\n",
            "25/25 [==============================] - 2s 85ms/step - loss: 0.0511 - accuracy: 0.9837 - val_loss: 0.8896 - val_accuracy: 0.7450\n",
            "Epoch 15/20\n",
            "25/25 [==============================] - 2s 82ms/step - loss: 0.0116 - accuracy: 0.9975 - val_loss: 1.2746 - val_accuracy: 0.7300\n",
            "Epoch 16/20\n",
            "25/25 [==============================] - 3s 127ms/step - loss: 0.0014 - accuracy: 1.0000 - val_loss: 1.4543 - val_accuracy: 0.7350\n",
            "Epoch 17/20\n",
            "25/25 [==============================] - 3s 136ms/step - loss: 3.9754e-04 - accuracy: 1.0000 - val_loss: 1.6034 - val_accuracy: 0.7500\n",
            "Epoch 18/20\n",
            "25/25 [==============================] - 3s 110ms/step - loss: 2.2338e-04 - accuracy: 1.0000 - val_loss: 1.6528 - val_accuracy: 0.7500\n",
            "Epoch 19/20\n",
            "25/25 [==============================] - 2s 82ms/step - loss: 1.5761e-04 - accuracy: 1.0000 - val_loss: 1.6923 - val_accuracy: 0.7450\n",
            "Epoch 20/20\n",
            "25/25 [==============================] - 2s 92ms/step - loss: 1.4702e-04 - accuracy: 1.0000 - val_loss: 1.7230 - val_accuracy: 0.7450\n"
          ]
        }
      ],
      "source": [
        "# training with 20% validation and 20 epochs.\n",
        "history = model.fit(x=X_train, y=y_train, validation_data=(X_test, y_test), epochs=20,\n",
        "                    batch_size=32, callbacks=[checkpoint_callback, tensorboard_callback])"
      ]
    },
    {
      "cell_type": "markdown",
      "source": [
        "**Visualize with plt**"
      ],
      "metadata": {
        "id": "euDbE_cFKLjp"
      }
    },
    {
      "cell_type": "code",
      "source": [
        "# Plotting the loss curve\n",
        "plt.figure(figsize=[6,4])\n",
        "plt.plot(history.history['loss'], 'black', linewidth=2.0)\n",
        "plt.plot(history.history['val_loss'], 'blue', linewidth=2.0)\n",
        "plt.legend(['Training Loss', 'Validation Loss'], fontsize=14)\n",
        "plt.xlabel('Epochs', fontsize=10)\n",
        "plt.ylabel('Loss', fontsize=10)\n",
        "plt.title('Loss Curves', fontsize=12)\n",
        "\n",
        "# Plotting the accuracy curve\n",
        "plt.figure(figsize=[6,4])\n",
        "plt.plot(history.history['accuracy'], 'black', linewidth=2.0)\n",
        "plt.plot(history.history['val_accuracy'], 'blue', linewidth=2.0)\n",
        "plt.legend(['Training Accuracy', 'Validation Accuracy'], fontsize=14)\n",
        "plt.xlabel('Epochs', fontsize=10)\n",
        "plt.ylabel('Accuracy', fontsize=10)\n",
        "plt.title('Accuracy Curves', fontsize=12)"
      ],
      "metadata": {
        "colab": {
          "base_uri": "https://localhost:8080/",
          "height": 820
        },
        "id": "iPSwHFL8bK5T",
        "outputId": "a5be75e1-8ba6-4ec3-9934-a52405958208"
      },
      "execution_count": 50,
      "outputs": [
        {
          "output_type": "execute_result",
          "data": {
            "text/plain": [
              "Text(0.5, 1.0, 'Accuracy Curves')"
            ]
          },
          "metadata": {},
          "execution_count": 50
        },
        {
          "output_type": "display_data",
          "data": {
            "text/plain": [
              "<Figure size 600x400 with 1 Axes>"
            ],
            "image/png": "[encoded data removed]"
          },
          "metadata": {}
        },
        {
          "output_type": "display_data",
          "data": {
            "text/plain": [
              "<Figure size 600x400 with 1 Axes>"
            ],
            "image/png": "[encoded data removed]"
          },
          "metadata": {}
        }
      ]
    },
    {
      "cell_type": "markdown",
      "source": [
        "**Use tensorboard to visualize training process**"
      ],
      "metadata": {
        "id": "l5TInauLJrs2"
      }
    },
    {
      "cell_type": "markdown",
      "source": [
        "Load tensorboard with logging data.\n",
        "\n",
        "You might encounter **403** problem when loading tensorboard. Two possible solutions:\n",
        "\n",
        "1. Allow third-party coockies on your browser. For chrome users: chrome://settings/cookies\n",
        "\n",
        "2. Run the `tensorboard dev upload` code |bellow to log in google account and varify identity.\n",
        "\n",
        "You can find more about how to use tensorboard with Colab [here](https://colab.research.google.com/github/tensorflow/tensorboard/blob/master/docs/get_started.ipynb#scrollTo=Q3nupQL24E5E)!"
      ],
      "metadata": {
        "id": "-k0_s4DFKRHX"
      }
    },
    {
      "cell_type": "code",
      "source": [
        "%tensorboard --logdir logs"
      ],
      "metadata": {
        "id": "O5CBHy5uauUp"
      },
      "execution_count": null,
      "outputs": []
    },
    {
      "cell_type": "code",
      "source": [
        "# upload tensorboard\n",
        "\n",
        "!tensorboard dev upload \\\n",
        "  --logdir logs/ \\\n",
        "  --name \"(optional) My latest experiment\" \\\n",
        "  --description \"(optional) Simple comparison of several hyperparameters\" \\\n",
        "  --one_shot"
      ],
      "metadata": {
        "colab": {
          "base_uri": "https://localhost:8080/"
        },
        "id": "Wgd7x5QHjX_H",
        "outputId": "32aacfa3-08d3-45ea-d9e2-52f1cf4590ed"
      },
      "execution_count": null,
      "outputs": [
        {
          "output_type": "stream",
          "name": "stdout",
          "text": [
            "2023-09-28 18:44:53.187059: W tensorflow/compiler/tf2tensorrt/utils/py_utils.cc:38] TF-TRT Warning: Could not find TensorRT\n",
            "\n",
            "New experiment created. View your TensorBoard at: https://tensorboard.dev/experiment/CdtOVrWyTkeGUOdRaKzFGQ/\n",
            "\n",
            "\u001b[1m[2023-09-28T18:44:55]\u001b[0m Started scanning logdir.\n",
            "E0928 18:44:56.790647 139091359760384 uploader.py:1122] Attempted to re-upload existing blob.  Skipping.\n",
            "E0928 18:44:59.784396 139091359760384 uploader.py:1122] Attempted to re-upload existing blob.  Skipping.\n",
            "\u001b[1m[2023-09-28T18:45:01]\u001b[0m Total uploaded: 564 scalars, 0 tensors, 4 binary objects (2.8 MB)\n",
            "\u001b[90mTotal skipped: 2 binary objects (1.1 MB)\n",
            "\u001b[0m\u001b[1m[2023-09-28T18:45:01]\u001b[0m Done scanning logdir.\n",
            "\n",
            "\n",
            "Done. View your TensorBoard at https://tensorboard.dev/experiment/CdtOVrWyTkeGUOdRaKzFGQ/\n"
          ]
        }
      ]
    },
    {
      "cell_type": "code",
      "execution_count": null,
      "metadata": {
        "id": "rRYiT_-x1eie",
        "outputId": "eb82cfe5-6723-45d1-e3bf-7dedb1824470",
        "colab": {
          "base_uri": "https://localhost:8080/"
        }
      },
      "outputs": [
        {
          "output_type": "stream",
          "name": "stdout",
          "text": [
            "Model: \"sequential\"\n",
            "_________________________________________________________________\n",
            " Layer (type)                Output Shape              Param #   \n",
            "=================================================================\n",
            " text_vectorization (TextVe  (None, None)              0         \n",
            " ctorization)                                                    \n",
            "                                                                 \n",
            " embedding (Embedding)       (None, None, 64)          133248    \n",
            "                                                                 \n",
            " lstm (LSTM)                 (None, None, 64)          33024     \n",
            "                                                                 \n",
            " dropout (Dropout)           (None, None, 64)          0         \n",
            "                                                                 \n",
            " lstm_1 (LSTM)               (None, 128)               98816     \n",
            "                                                                 \n",
            " dense (Dense)               (None, 1)                 129       \n",
            "                                                                 \n",
            "=================================================================\n",
            "Total params: 265217 (1.01 MB)\n",
            "Trainable params: 265217 (1.01 MB)\n",
            "Non-trainable params: 0 (0.00 Byte)\n",
            "_________________________________________________________________\n"
          ]
        }
      ],
      "source": [
        "model.summary()"
      ]
    },
    {
      "cell_type": "code",
      "source": [
        "model.save('lstm.classification.keras')"
      ],
      "metadata": {
        "id": "IuuyQI3FQEhA"
      },
      "execution_count": null,
      "outputs": []
    },
    {
      "cell_type": "code",
      "execution_count": null,
      "metadata": {
        "id": "xF6rLnZq1eie",
        "outputId": "44c4bc73-a6fc-41d0-a0da-059e502747ca",
        "colab": {
          "base_uri": "https://localhost:8080/"
        }
      },
      "outputs": [
        {
          "output_type": "stream",
          "name": "stdout",
          "text": [
            "1/1 [==============================] - 3s 3s/step\n"
          ]
        },
        {
          "output_type": "execute_result",
          "data": {
            "text/plain": [
              "array([[0.8484372],\n",
              "       [0.9999966]], dtype=float32)"
            ]
          },
          "metadata": {},
          "execution_count": 41
        }
      ],
      "source": [
        "# try to make some predicitons\n",
        "model.predict([['I hate this meal!'], ['I love this restaurant']])"
      ]
    },
    {
      "cell_type": "markdown",
      "source": [
        "## Classification with FastText"
      ],
      "metadata": {
        "id": "dBfA7oORXgcG"
      }
    },
    {
      "cell_type": "code",
      "source": [
        "from google.colab import drive\n",
        "drive.mount('/content/drive') #, force_remount=True)"
      ],
      "metadata": {
        "colab": {
          "base_uri": "https://localhost:8080/"
        },
        "outputId": "e3d1dbed-eb01-409f-864b-ab0d421b1fb3",
        "id": "kUz97WMUYNn8"
      },
      "execution_count": 1,
      "outputs": [
        {
          "output_type": "stream",
          "name": "stdout",
          "text": [
            "Drive already mounted at /content/drive; to attempt to forcibly remount, call drive.mount(\"/content/drive\", force_remount=True).\n"
          ]
        }
      ]
    },
    {
      "cell_type": "code",
      "source": [
        "%cd drive/MyDrive/is765"
      ],
      "metadata": {
        "colab": {
          "base_uri": "https://localhost:8080/"
        },
        "outputId": "4d90e236-e7fc-4a4a-8369-29e9126ad282",
        "id": "yOw4lduMYNn9"
      },
      "execution_count": 2,
      "outputs": [
        {
          "output_type": "stream",
          "name": "stdout",
          "text": [
            "/content/drive/MyDrive/is765\n"
          ]
        }
      ]
    },
    {
      "cell_type": "markdown",
      "source": [
        "### Install fasttext"
      ],
      "metadata": {
        "id": "3qgcNpHZYtpc"
      }
    },
    {
      "cell_type": "code",
      "source": [
        "!wget -nc https://github.com/facebookresearch/fastText/archive/v0.9.2.zip\n",
        "!unzip -n v0.9.2.zip"
      ],
      "metadata": {
        "colab": {
          "base_uri": "https://localhost:8080/"
        },
        "id": "sQlOfVG0Xn1q",
        "outputId": "07015acc-1b6c-48b5-de7e-d8313d2af128"
      },
      "execution_count": 3,
      "outputs": [
        {
          "output_type": "stream",
          "name": "stdout",
          "text": [
            "File ‘v0.9.2.zip’ already there; not retrieving.\n",
            "\n",
            "Archive:  v0.9.2.zip\n",
            "5b5943c118b0ec5fb9cd8d20587de2b2d3966dfe\n"
          ]
        }
      ]
    },
    {
      "cell_type": "code",
      "source": [
        "%cd fastText-0.9.2"
      ],
      "metadata": {
        "colab": {
          "base_uri": "https://localhost:8080/"
        },
        "id": "BymUiicXYlhc",
        "outputId": "4bd3ed73-0d0b-4566-f91b-d57bdcbda9ca"
      },
      "execution_count": 4,
      "outputs": [
        {
          "output_type": "stream",
          "name": "stdout",
          "text": [
            "/content/drive/MyDrive/is765/fastText-0.9.2\n"
          ]
        }
      ]
    },
    {
      "cell_type": "code",
      "source": [
        "!make\n",
        "!pip install ."
      ],
      "metadata": {
        "colab": {
          "base_uri": "https://localhost:8080/"
        },
        "id": "h9egbq01YnQO",
        "outputId": "84865e9e-736c-49ff-d244-b6dfe132eb03"
      },
      "execution_count": 5,
      "outputs": [
        {
          "output_type": "stream",
          "name": "stdout",
          "text": [
            "make: Nothing to be done for 'opt'.\n",
            "Processing /content/drive/MyDrive/is765/fastText-0.9.2\n",
            "  Preparing metadata (setup.py) ... \u001b[?25l\u001b[?25hdone\n",
            "Requirement already satisfied: pybind11>=2.2 in /usr/local/lib/python3.10/dist-packages (from fasttext==0.9.2) (2.11.1)\n",
            "Requirement already satisfied: setuptools>=0.7.0 in /usr/local/lib/python3.10/dist-packages (from fasttext==0.9.2) (67.7.2)\n",
            "Requirement already satisfied: numpy in /usr/local/lib/python3.10/dist-packages (from fasttext==0.9.2) (1.23.5)\n",
            "Building wheels for collected packages: fasttext\n",
            "  Building wheel for fasttext (setup.py) ... \u001b[?25l\u001b[?25hdone\n",
            "  Created wheel for fasttext: filename=fasttext-0.9.2-cp310-cp310-linux_x86_64.whl size=4199749 sha256=ebbeedd1427c6cddd30a0ce6f47a9b128f705957ec7701647eb82293ce28b988\n",
            "  Stored in directory: /root/.cache/pip/wheels/25/1b/0b/76cee6473d07bdc0856c74561d5269c877458db0223f867955\n",
            "Successfully built fasttext\n",
            "Installing collected packages: fasttext\n",
            "  Attempting uninstall: fasttext\n",
            "    Found existing installation: fasttext 0.9.2\n",
            "    Uninstalling fasttext-0.9.2:\n",
            "      Successfully uninstalled fasttext-0.9.2\n",
            "Successfully installed fasttext-0.9.2\n"
          ]
        }
      ]
    },
    {
      "cell_type": "code",
      "source": [
        "%cd .."
      ],
      "metadata": {
        "colab": {
          "base_uri": "https://localhost:8080/"
        },
        "id": "VAbih6mweTgC",
        "outputId": "72c8e8f7-b40b-4176-f9af-12d83876048e"
      },
      "execution_count": 6,
      "outputs": [
        {
          "output_type": "stream",
          "name": "stdout",
          "text": [
            "/content/drive/MyDrive/is765\n"
          ]
        }
      ]
    },
    {
      "cell_type": "code",
      "source": [
        "import fasttext"
      ],
      "metadata": {
        "id": "DfTa7fhyYsgM"
      },
      "execution_count": 7,
      "outputs": []
    },
    {
      "cell_type": "code",
      "source": [
        "help(fasttext.FastText)"
      ],
      "metadata": {
        "id": "TF-uTWeIZKO-"
      },
      "execution_count": null,
      "outputs": []
    },
    {
      "cell_type": "markdown",
      "source": [
        "### Prepare data\n",
        "\n",
        "In this tutorial, we are interested in building a classifier to automatically recognize the topic of a stackexchange question about cooking. Let's download examples of questions from the cooking section of Stackexchange, and their associated tags.\n",
        "\n",
        "Each line of the text file contains a list of labels, followed by the corresponding document. All the labels start by the `__label__` prefix, which is how `fastText` recognize what is a label or what is a word. The model is then trained to predict the labels given the word in the document."
      ],
      "metadata": {
        "id": "-CvJ0AVmis5J"
      }
    },
    {
      "cell_type": "code",
      "source": [
        "!wget https://dl.fbaipublicfiles.com/fasttext/data/cooking.stackexchange.tar.gz && tar xvzf cooking.stackexchange.tar.gz"
      ],
      "metadata": {
        "colab": {
          "base_uri": "https://localhost:8080/"
        },
        "id": "av1qH-vSZMci",
        "outputId": "31edb0a2-604b-46d4-e957-aa43b0214d7e"
      },
      "execution_count": 9,
      "outputs": [
        {
          "output_type": "stream",
          "name": "stdout",
          "text": [
            "--2023-09-29 15:07:23--  https://dl.fbaipublicfiles.com/fasttext/data/cooking.stackexchange.tar.gz\n",
            "Resolving dl.fbaipublicfiles.com (dl.fbaipublicfiles.com)... 3.162.163.19, 3.162.163.11, 3.162.163.51, ...\n",
            "Connecting to dl.fbaipublicfiles.com (dl.fbaipublicfiles.com)|3.162.163.19|:443... connected.\n",
            "HTTP request sent, awaiting response... 200 OK\n",
            "Length: 457609 (447K) [application/x-tar]\n",
            "Saving to: ‘cooking.stackexchange.tar.gz’\n",
            "\n",
            "\r          cooking.s   0%[                    ]       0  --.-KB/s               \rcooking.stackexchan 100%[===================>] 446.88K  --.-KB/s    in 0.06s   \n",
            "\n",
            "2023-09-29 15:07:23 (7.55 MB/s) - ‘cooking.stackexchange.tar.gz’ saved [457609/457609]\n",
            "\n",
            "cooking.stackexchange.id\n",
            "cooking.stackexchange.txt\n",
            "readme.txt\n"
          ]
        }
      ]
    },
    {
      "cell_type": "code",
      "source": [
        "!head cooking.stackexchange.txt"
      ],
      "metadata": {
        "colab": {
          "base_uri": "https://localhost:8080/"
        },
        "id": "aR-Zr0dBbIHJ",
        "outputId": "cfa63c6d-bb80-497b-b9e3-50bb248fa2e5"
      },
      "execution_count": 11,
      "outputs": [
        {
          "output_type": "stream",
          "name": "stdout",
          "text": [
            "__label__sauce __label__cheese How much does potato starch affect a cheese sauce recipe?\n",
            "__label__food-safety __label__acidity Dangerous pathogens capable of growing in acidic environments\n",
            "__label__cast-iron __label__stove How do I cover up the white spots on my cast iron stove?\n",
            "__label__restaurant Michelin Three Star Restaurant; but if the chef is not there\n",
            "__label__knife-skills __label__dicing Without knife skills, how can I quickly and accurately dice vegetables?\n",
            "__label__storage-method __label__equipment __label__bread What's the purpose of a bread box?\n",
            "__label__baking __label__food-safety __label__substitutions __label__peanuts how to seperate peanut oil from roasted peanuts at home?\n",
            "__label__chocolate American equivalent for British chocolate terms\n",
            "__label__baking __label__oven __label__convection Fan bake vs bake\n",
            "__label__sauce __label__storage-lifetime __label__acidity __label__mayonnaise Regulation and balancing of readymade packed mayonnaise and other sauces\n"
          ]
        }
      ]
    },
    {
      "cell_type": "code",
      "source": [
        "!wc cooking.stackexchange.txt"
      ],
      "metadata": {
        "colab": {
          "base_uri": "https://localhost:8080/"
        },
        "id": "cKr9JaK9fHIb",
        "outputId": "edb5d139-c13c-4925-93b3-d610b45fff0c"
      },
      "execution_count": 13,
      "outputs": [
        {
          "output_type": "stream",
          "name": "stdout",
          "text": [
            "  15404  169582 1401900 cooking.stackexchange.txt\n"
          ]
        }
      ]
    },
    {
      "cell_type": "markdown",
      "source": [
        "Before training our first classifier, we need to split the data into train and validation. We will use the validation set to evaluate how good the learned classifier is on new data."
      ],
      "metadata": {
        "id": "_Aq_vF3cjFAq"
      }
    },
    {
      "cell_type": "code",
      "source": [
        "!head -n 12404 cooking.stackexchange.txt > cooking.train\n",
        "!tail -n 3000 cooking.stackexchange.txt > cooking.valid"
      ],
      "metadata": {
        "id": "Cgk9jTZxfNEZ"
      },
      "execution_count": 14,
      "outputs": []
    },
    {
      "cell_type": "markdown",
      "source": [
        "### Train a classifier"
      ],
      "metadata": {
        "id": "cXufdQ6KjKIT"
      }
    },
    {
      "cell_type": "code",
      "source": [
        "ft_model = fasttext.train_supervised(input=\"cooking.train\")"
      ],
      "metadata": {
        "id": "RwSVjTlXfSxI"
      },
      "execution_count": 16,
      "outputs": []
    },
    {
      "cell_type": "code",
      "source": [
        "ft_model.save_model(\"ft_classification_cooking.bin\")"
      ],
      "metadata": {
        "id": "aUdBu3TffWZZ"
      },
      "execution_count": 17,
      "outputs": []
    },
    {
      "cell_type": "code",
      "source": [
        "ft_model.predict(\"Which baking dish is best to bake a banana bread ?\")"
      ],
      "metadata": {
        "colab": {
          "base_uri": "https://localhost:8080/"
        },
        "id": "BlNC5LtUfj2p",
        "outputId": "88ed897f-bac8-4346-e9ac-cafd517f806a"
      },
      "execution_count": 19,
      "outputs": [
        {
          "output_type": "execute_result",
          "data": {
            "text/plain": [
              "(('__label__baking',), array([0.07257967]))"
            ]
          },
          "metadata": {},
          "execution_count": 19
        }
      ]
    },
    {
      "cell_type": "code",
      "source": [
        "ft_model.predict(\"Why not put knives in the dishwasher?\")"
      ],
      "metadata": {
        "colab": {
          "base_uri": "https://localhost:8080/"
        },
        "id": "JIRwP8MSfnGY",
        "outputId": "5ce7007e-b905-448a-d977-727952ef59b4"
      },
      "execution_count": 21,
      "outputs": [
        {
          "output_type": "execute_result",
          "data": {
            "text/plain": [
              "(('__label__food-safety',), array([0.07451777]))"
            ]
          },
          "metadata": {},
          "execution_count": 21
        }
      ]
    },
    {
      "cell_type": "markdown",
      "source": [
        "The output are the number of samples (here 3000), the precision at one (0.135) and the recall at one (0.0584)."
      ],
      "metadata": {
        "id": "_9F5j4AYg2uL"
      }
    },
    {
      "cell_type": "code",
      "source": [
        "ft_model.test(\"cooking.valid\")"
      ],
      "metadata": {
        "colab": {
          "base_uri": "https://localhost:8080/"
        },
        "id": "Fqp-TM_5fpsN",
        "outputId": "47f9c029-7feb-4a08-af32-ed51eb520652"
      },
      "execution_count": 22,
      "outputs": [
        {
          "output_type": "execute_result",
          "data": {
            "text/plain": [
              "(3000, 0.135, 0.05838258613233386)"
            ]
          },
          "metadata": {},
          "execution_count": 22
        }
      ]
    },
    {
      "cell_type": "markdown",
      "source": [
        "Here is the results of the precision at five and recall at five with:"
      ],
      "metadata": {
        "id": "INk7asPujq47"
      }
    },
    {
      "cell_type": "code",
      "source": [
        "ft_model.test(\"cooking.valid\", k=5)"
      ],
      "metadata": {
        "colab": {
          "base_uri": "https://localhost:8080/"
        },
        "id": "R3VKHYQHfupX",
        "outputId": "5ed70e58-5049-445f-852f-de91854d1d77"
      },
      "execution_count": 23,
      "outputs": [
        {
          "output_type": "execute_result",
          "data": {
            "text/plain": [
              "(3000, 0.06606666666666666, 0.14285714285714285)"
            ]
          },
          "metadata": {},
          "execution_count": 23
        }
      ]
    },
    {
      "cell_type": "markdown",
      "source": [
        "### Different ways to enhance the performance"
      ],
      "metadata": {
        "id": "c4D9gF_6lC9t"
      }
    },
    {
      "cell_type": "markdown",
      "source": [
        "**Preprocessing data**"
      ],
      "metadata": {
        "id": "buHVU35PlInW"
      }
    },
    {
      "cell_type": "code",
      "source": [
        "!cat cooking.stackexchange.txt | sed -e \"s/\\([.\\!?,'/()]\\)/ \\1 /g\" | tr \"[:upper:]\" \"[:lower:]\" > cooking.preprocessed.txt\n",
        "!head -n 12404 cooking.preprocessed.txt > cooking.train\n",
        "!tail -n 3000 cooking.preprocessed.txt > cooking.vali"
      ],
      "metadata": {
        "id": "Gm-bGxI2fxa-"
      },
      "execution_count": 24,
      "outputs": []
    },
    {
      "cell_type": "code",
      "source": [
        "ft2 = fasttext.train_supervised(input=\"cooking.train\")"
      ],
      "metadata": {
        "id": "-YE7eNsYhW-4"
      },
      "execution_count": 25,
      "outputs": []
    },
    {
      "cell_type": "code",
      "source": [
        "ft2.test(\"cooking.valid\")"
      ],
      "metadata": {
        "colab": {
          "base_uri": "https://localhost:8080/"
        },
        "id": "hxNtbXUKhe9y",
        "outputId": "615c7b00-e50d-4290-ee5b-430cc2636049"
      },
      "execution_count": 26,
      "outputs": [
        {
          "output_type": "execute_result",
          "data": {
            "text/plain": [
              "(3000, 0.155, 0.06703185815193888)"
            ]
          },
          "metadata": {},
          "execution_count": 26
        }
      ]
    },
    {
      "cell_type": "markdown",
      "source": [
        "**More epoch**"
      ],
      "metadata": {
        "id": "f5TPSRDKlqP9"
      }
    },
    {
      "cell_type": "code",
      "source": [
        "ft3 = fasttext.train_supervised(input=\"cooking.train\", epoch=25)"
      ],
      "metadata": {
        "id": "pDDgjKZQhg6a"
      },
      "execution_count": 27,
      "outputs": []
    },
    {
      "cell_type": "code",
      "source": [
        "ft3.test(\"cooking.valid\")"
      ],
      "metadata": {
        "colab": {
          "base_uri": "https://localhost:8080/"
        },
        "id": "L_8YdzqPhnvI",
        "outputId": "392a4dfd-4ce2-492f-e567-c4fce581766c"
      },
      "execution_count": 28,
      "outputs": [
        {
          "output_type": "execute_result",
          "data": {
            "text/plain": [
              "(3000, 0.41733333333333333, 0.18048147614242468)"
            ]
          },
          "metadata": {},
          "execution_count": 28
        }
      ]
    },
    {
      "cell_type": "markdown",
      "source": [
        "**Try different learning rates**"
      ],
      "metadata": {
        "id": "DvdSYUEGlu-9"
      }
    },
    {
      "cell_type": "code",
      "source": [
        "ft4 = fasttext.train_supervised(input=\"cooking.train\", lr=1.0, epoch=25)"
      ],
      "metadata": {
        "id": "XpAJr5O7hqw8"
      },
      "execution_count": 31,
      "outputs": []
    },
    {
      "cell_type": "code",
      "source": [
        "ft4.test(\"cooking.valid\")"
      ],
      "metadata": {
        "colab": {
          "base_uri": "https://localhost:8080/"
        },
        "id": "awUjqyM0htMz",
        "outputId": "878dc96c-9ebf-4f95-f10c-15c93deff9f0"
      },
      "execution_count": 32,
      "outputs": [
        {
          "output_type": "execute_result",
          "data": {
            "text/plain": [
              "(3000, 0.479, 0.20715006486954016)"
            ]
          },
          "metadata": {},
          "execution_count": 32
        }
      ]
    },
    {
      "cell_type": "markdown",
      "source": [
        "**word n-grams**"
      ],
      "metadata": {
        "id": "DtEAy-PGmDAk"
      }
    },
    {
      "cell_type": "code",
      "source": [
        "ft5 = fasttext.train_supervised(input=\"cooking.train\", lr=1.0, epoch=25, wordNgrams=2)"
      ],
      "metadata": {
        "id": "GZwQu07rhzBT"
      },
      "execution_count": 33,
      "outputs": []
    },
    {
      "cell_type": "code",
      "source": [
        "ft5.test(\"cooking.valid\")"
      ],
      "metadata": {
        "colab": {
          "base_uri": "https://localhost:8080/"
        },
        "id": "qM9xIrPml822",
        "outputId": "ee700274-70dd-4956-8518-9850f05d462a"
      },
      "execution_count": 34,
      "outputs": [
        {
          "output_type": "execute_result",
          "data": {
            "text/plain": [
              "(3000, 0.493, 0.21320455528326365)"
            ]
          },
          "metadata": {},
          "execution_count": 34
        }
      ]
    },
    {
      "cell_type": "markdown",
      "source": [
        "### Train a fastText classifier on our previous sentiment data"
      ],
      "metadata": {
        "id": "c6QRQBggmQWc"
      }
    },
    {
      "cell_type": "code",
      "source": [
        "import pandas as pd"
      ],
      "metadata": {
        "id": "ApmzQ2WnqMPd"
      },
      "execution_count": 56,
      "outputs": []
    },
    {
      "cell_type": "code",
      "source": [
        "train_size = len(X_train)\n",
        "test_size = len(X_test)"
      ],
      "metadata": {
        "id": "Qf2aDHHIqRSD"
      },
      "execution_count": 57,
      "outputs": []
    },
    {
      "cell_type": "code",
      "source": [
        "sent_train_array = np.hstack((y_train.reshape(train_size,1), X_train.reshape(train_size,1)))\n",
        "sent_test_array = np.hstack((y_test.reshape(test_size,1), X_test.reshape(test_size,1)))"
      ],
      "metadata": {
        "id": "_x8QoGKgrnq9"
      },
      "execution_count": 58,
      "outputs": []
    },
    {
      "cell_type": "code",
      "source": [
        "sent_train_df = pd.DataFrame(sent_train_array, columns = ['label','text'])\n",
        "sent_test_df = pd.DataFrame(sent_test_array, columns = ['label','text'])"
      ],
      "metadata": {
        "id": "gMFOikgjq3xl"
      },
      "execution_count": 59,
      "outputs": []
    },
    {
      "cell_type": "code",
      "source": [
        "sent_train_df['label'] = sent_train_df['label'].apply(lambda x: '__label__' + x)\n",
        "sent_test_df['label'] = sent_test_df['label'].apply(lambda x: '__label__' + x)"
      ],
      "metadata": {
        "id": "EfLCYuwksmcU"
      },
      "execution_count": 71,
      "outputs": []
    },
    {
      "cell_type": "code",
      "source": [
        "sent_train_df.to_csv('data/sent_train.txt', index = False, sep = ' ', header = None)\n",
        "sent_test_df.to_csv('data/sent_test.txt', index = False, sep = ' ', header = None)"
      ],
      "metadata": {
        "id": "msUGblMistlV"
      },
      "execution_count": 72,
      "outputs": []
    },
    {
      "cell_type": "code",
      "source": [
        "ft_sent = fasttext.train_supervised('data/sent_train.txt', epoch=20)"
      ],
      "metadata": {
        "id": "hFk0HCy9wHn7"
      },
      "execution_count": 74,
      "outputs": []
    },
    {
      "cell_type": "code",
      "source": [
        "ft_sent.test('data/sent_test.txt')"
      ],
      "metadata": {
        "colab": {
          "base_uri": "https://localhost:8080/"
        },
        "id": "nLeKumHnwa9o",
        "outputId": "04e0c145-4042-4bb4-dec2-efbe43adcaeb"
      },
      "execution_count": 75,
      "outputs": [
        {
          "output_type": "execute_result",
          "data": {
            "text/plain": [
              "(200, 0.755, 0.755)"
            ]
          },
          "metadata": {},
          "execution_count": 75
        }
      ]
    },
    {
      "cell_type": "code",
      "source": [
        "test_sample = sent_test_df.iloc[23, 1]\n",
        "print(ft_sent.predict(test_sample),)\n",
        "print(test_sample)"
      ],
      "metadata": {
        "colab": {
          "base_uri": "https://localhost:8080/"
        },
        "id": "FibvI-MSwpR1",
        "outputId": "e4eec020-a029-4115-a8b6-e0a31c56a2fb"
      },
      "execution_count": 82,
      "outputs": [
        {
          "output_type": "stream",
          "name": "stdout",
          "text": [
            "(('__label__1',), array([0.54308963]))\n",
            "Be sure to order dessert, even if you need to pack it to-go - the tiramisu and cannoli are both to die for.\n"
          ]
        }
      ]
    },
    {
      "cell_type": "markdown",
      "source": [
        "Compare these two models' results, for this dataset, the performances are similar. However, the training time of fastTaxt is much shorter."
      ],
      "metadata": {
        "id": "jwezPRZdxb6P"
      }
    }
  ]
}